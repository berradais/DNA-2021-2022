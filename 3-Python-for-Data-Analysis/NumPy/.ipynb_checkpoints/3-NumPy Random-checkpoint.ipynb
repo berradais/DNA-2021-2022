{
 "cells": [
  {
   "cell_type": "markdown",
   "metadata": {},
   "source": [
    "## 3. Random \n",
    "\n",
    "A number of functions are available in NumPy's `random` module to create `ndarray`s initialized with random values.\n",
    "\n",
    "### rand\n",
    "Create an array of the given shape and populate it with\n",
    "random samples from a uniform distribution\n",
    "over ``[0, 1)``."
   ]
  },
  {
   "cell_type": "code",
   "execution_count": 2,
   "metadata": {},
   "outputs": [
    {
     "data": {
      "text/plain": [
       "array([0.70869008, 0.13997347])"
      ]
     },
     "execution_count": 2,
     "metadata": {},
     "output_type": "execute_result"
    }
   ],
   "source": [
    "import numpy as np\n",
    "\n",
    "np.random.rand(2)"
   ]
  },
  {
   "cell_type": "code",
   "execution_count": 30,
   "metadata": {},
   "outputs": [
    {
     "data": {
      "text/plain": [
       "array([[0.35125402, 0.55333339, 0.50990757, 0.73226901, 0.13694028],\n",
       "       [0.41718581, 0.51506499, 0.5902163 , 0.98699787, 0.86800451],\n",
       "       [0.13058159, 0.65671947, 0.84461257, 0.88914032, 0.88474182],\n",
       "       [0.86547941, 0.67231559, 0.73230932, 0.3715982 , 0.686595  ],\n",
       "       [0.73383928, 0.0463996 , 0.03459864, 0.45621455, 0.77547434]])"
      ]
     },
     "execution_count": 30,
     "metadata": {},
     "output_type": "execute_result"
    }
   ],
   "source": [
    "np.random.rand(5,5)"
   ]
  },
  {
   "cell_type": "markdown",
   "metadata": {},
   "source": [
    "### randn\n",
    "\n",
    "Return a sample (or samples) from the `standard normal` = `univariate normal` = `Gaussian` distribution of mean 0 and variance 1. Unlike rand which is uniform:"
   ]
  },
  {
   "cell_type": "code",
   "execution_count": 33,
   "metadata": {},
   "outputs": [
    {
     "data": {
      "text/plain": [
       "array([-2.2663351 ,  0.96345158])"
      ]
     },
     "execution_count": 33,
     "metadata": {},
     "output_type": "execute_result"
    }
   ],
   "source": [
    "np.random.randn(2)"
   ]
  },
  {
   "cell_type": "code",
   "execution_count": 4,
   "metadata": {},
   "outputs": [
    {
     "data": {
      "text/plain": [
       "array([[ 0.82418808,  0.479966  ,  1.17346801,  0.90904807, -0.57172145],\n",
       "       [-0.10949727,  0.01902826, -0.94376106,  0.64057315, -0.78644317],\n",
       "       [ 0.60886999, -0.93101185,  0.97822225, -0.73691806, -0.29873262],\n",
       "       [-0.46058737, -1.08879299, -0.57577075, -1.68290077,  0.22918525],\n",
       "       [-1.75662522,  0.84463262,  0.27721986,  0.85290153,  0.1945996 ]])"
      ]
     },
     "execution_count": 4,
     "metadata": {},
     "output_type": "execute_result"
    }
   ],
   "source": [
    "np.random.seed(666)\n",
    "np.random.randn(5,5)"
   ]
  },
  {
   "cell_type": "markdown",
   "metadata": {},
   "source": [
    "To give you a feel of what these distributions look like, let's use matplotlib "
   ]
  },
  {
   "cell_type": "code",
   "execution_count": 16,
   "metadata": {},
   "outputs": [
    {
     "data": {
      "image/png": "[encoded data removed]",
      "text/plain": [
       "<Figure size 432x288 with 1 Axes>"
      ]
     },
     "metadata": {
      "needs_background": "light"
     },
     "output_type": "display_data"
    }
   ],
   "source": [
    "%matplotlib inline\n",
    "import matplotlib.pyplot as plt\n",
    "plt.hist(np.random.rand(100000), bins=100, histtype=\"step\", color=\"blue\", label=\"rand\")\n",
    "plt.hist(np.random.randn(100000), bins=100, histtype=\"step\", color=\"red\", label=\"randn\")\n",
    "plt.axis([-3.5, 3.5, 0, 4000])\n",
    "plt.axis\n",
    "plt.legend(loc = \"upper left\")\n",
    "plt.title(\"Random distributions\")\n",
    "plt.xlabel(\"Value\")\n",
    "plt.ylabel(\"Density\")\n",
    "plt.show()"
   ]
  },
  {
   "cell_type": "markdown",
   "metadata": {},
   "source": [
    "### randint\n",
    "Return random integers from `low` (inclusive) to `high` (exclusive)."
   ]
  },
  {
   "cell_type": "code",
   "execution_count": 41,
   "metadata": {},
   "outputs": [
    {
     "data": {
      "text/plain": [
       "39"
      ]
     },
     "execution_count": 41,
     "metadata": {},
     "output_type": "execute_result"
    }
   ],
   "source": [
    "np.random.randint(1,100)"
   ]
  },
  {
   "cell_type": "code",
   "execution_count": 43,
   "metadata": {},
   "outputs": [
    {
     "data": {
      "text/plain": [
       "array([[36, 24, 42, 15, 56, 88, 39, 32],\n",
       "       [72, 32, 12, 38, 85, 84, 80, 28],\n",
       "       [68, 52, 10, 21, 47, 73, 56, 93],\n",
       "       [ 5, 51, 35, 18, 68, 30,  3, 29],\n",
       "       [34, 31, 25, 23, 27, 21, 26,  4],\n",
       "       [40, 72, 76, 10, 54, 13, 74, 40],\n",
       "       [55, 49, 20, 57, 40, 60, 23, 99],\n",
       "       [13, 93,  5, 75, 31, 75, 42, 54],\n",
       "       [97, 38, 98, 61,  2, 70, 89, 34],\n",
       "       [89, 73,  2, 45, 57, 73, 11, 46]])"
      ]
     },
     "execution_count": 43,
     "metadata": {},
     "output_type": "execute_result"
    }
   ],
   "source": [
    "np.random.randint(1,100,(10,8))"
   ]
  },
  {
   "cell_type": "code",
   "execution_count": 82,
   "metadata": {},
   "outputs": [
    {
     "data": {
      "text/plain": [
       "dtype('int32')"
      ]
     },
     "execution_count": 82,
     "metadata": {},
     "output_type": "execute_result"
    }
   ],
   "source": [
    "arr.dtype"
   ]
  }
 ],
 "metadata": {
  "kernelspec": {
   "display_name": "Python 3",
   "language": "python",
   "name": "python3"
  },
  "language_info": {
   "codemirror_mode": {
    "name": "ipython",
    "version": 3
   },
   "file_extension": ".py",
   "mimetype": "text/x-python",
   "name": "python",
   "nbconvert_exporter": "python",
   "pygments_lexer": "ipython3",
   "version": "3.8.5"
  }
 },
 "nbformat": 4,
 "nbformat_minor": 1
}
