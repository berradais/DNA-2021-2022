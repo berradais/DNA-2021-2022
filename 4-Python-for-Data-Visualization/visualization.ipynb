{
 "cells": [
  {
   "cell_type": "markdown",
   "metadata": {},
   "source": [
    "# Data Visualization"
   ]
  },
  {
   "cell_type": "markdown",
   "metadata": {},
   "source": [
    "- https://pbpython.com/visualization-tools-1.html"
   ]
  },
  {
   "cell_type": "markdown",
   "metadata": {},
   "source": [
    "In the python world, there are multiple options for visualizing your data. Because of this variety, it can be really challenging to figure out which one to use when. Sample of some of the more popular ones are: \n",
    "- Pandas\n",
    "- Seaborn\n",
    "- ggplot\n",
    "- Bokeh\n",
    "- pygal\n",
    "- Plotly\n",
    "\n",
    "Matplotlib is the grandfather of python visualization packages. It is extremely powerful but with that power comes complexity. You can typically do anything you need using matplotlib but it is not always so easy to figure out. Many of the tools (especially Pandas and Seaborn) are thin wrappers over matplotlib. \n",
    "\n",
    "The big problem of  Matplotlib is that it just takes too much work to get reasonable looking graphs: the verbose nature of matplotlib"
   ]
  }
 ],
 "metadata": {
  "kernelspec": {
   "display_name": "Python 3",
   "language": "python",
   "name": "python3"
  },
  "language_info": {
   "codemirror_mode": {
    "name": "ipython",
    "version": 3
   },
   "file_extension": ".py",
   "mimetype": "text/x-python",
   "name": "python",
   "nbconvert_exporter": "python",
   "pygments_lexer": "ipython3",
   "version": "3.8.5"
  }
 },
 "nbformat": 4,
 "nbformat_minor": 4
}
