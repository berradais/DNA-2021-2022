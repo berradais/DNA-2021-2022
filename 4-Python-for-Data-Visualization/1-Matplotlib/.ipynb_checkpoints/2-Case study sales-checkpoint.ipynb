{
 "cells": [
  {
   "cell_type": "markdown",
   "metadata": {},
   "source": [
    "<center><h1> Sales dataset</h1></center>"
   ]
  },
  {
   "cell_type": "markdown",
   "metadata": {},
   "source": [
    "The dataset used in this example correspond to the sales transactions for 2014 of retail store.\n",
    "\n",
    "- account number: the account of the client\n",
    "- name : the client name\n",
    "- sku : A stock-keeping unit (SKU) is a scannable bar code, most often seen printed on product labels in a retail store\n",
    "- quantity: the number of item of the transaction\n",
    "- unit price: the item price \n",
    "- ext price:  quantity * unit price\n",
    "- date: transaction date"
   ]
  },
  {
   "cell_type": "code",
   "execution_count": 34,
   "metadata": {},
   "outputs": [],
   "source": [
    "# Standard imports\n",
    "import pandas as pd\n",
    "import matplotlib.pyplot as plt\n",
    "\n",
    "# This module contains classes for configuring tick locating and formatting. Generic tick locators and formatters are provided, \n",
    "# as well as domain specific custom ones.\n",
    "# See https://matplotlib.org/3.3.2/api/ticker_api.html\n",
    "from matplotlib.ticker import FuncFormatter\n",
    "\n",
    "# Ensure plots are displayed inline\n",
    "%matplotlib inline\n",
    "\n",
    "# Read in some data to show some real world example\n",
    "df = pd.read_excel(\"../../dataset/sample-salesv3.xlsx\")"
   ]
  },
  {
   "cell_type": "code",
   "execution_count": 15,
   "metadata": {},
   "outputs": [
    {
     "data": {
      "text/html": [
       "<div>\n",
       "<style scoped>\n",
       "    .dataframe tbody tr th:only-of-type {\n",
       "        vertical-align: middle;\n",
       "    }\n",
       "\n",
       "    .dataframe tbody tr th {\n",
       "        vertical-align: top;\n",
       "    }\n",
       "\n",
       "    .dataframe thead th {\n",
       "        text-align: right;\n",
       "    }\n",
       "</style>\n",
       "<table border=\"1\" class=\"dataframe\">\n",
       "  <thead>\n",
       "    <tr style=\"text-align: right;\">\n",
       "      <th></th>\n",
       "      <th>account number</th>\n",
       "      <th>name</th>\n",
       "      <th>sku</th>\n",
       "      <th>quantity</th>\n",
       "      <th>unit price</th>\n",
       "      <th>ext price</th>\n",
       "      <th>date</th>\n",
       "    </tr>\n",
       "  </thead>\n",
       "  <tbody>\n",
       "    <tr>\n",
       "      <th>0</th>\n",
       "      <td>740150</td>\n",
       "      <td>Barton LLC</td>\n",
       "      <td>B1-20000</td>\n",
       "      <td>39</td>\n",
       "      <td>86.69</td>\n",
       "      <td>3380.91</td>\n",
       "      <td>2014-01-01 07:21:51</td>\n",
       "    </tr>\n",
       "    <tr>\n",
       "      <th>1</th>\n",
       "      <td>714466</td>\n",
       "      <td>Trantow-Barrows</td>\n",
       "      <td>S2-77896</td>\n",
       "      <td>-1</td>\n",
       "      <td>63.16</td>\n",
       "      <td>-63.16</td>\n",
       "      <td>2014-01-01 10:00:47</td>\n",
       "    </tr>\n",
       "    <tr>\n",
       "      <th>2</th>\n",
       "      <td>218895</td>\n",
       "      <td>Kulas Inc</td>\n",
       "      <td>B1-69924</td>\n",
       "      <td>23</td>\n",
       "      <td>90.70</td>\n",
       "      <td>2086.10</td>\n",
       "      <td>2014-01-01 13:24:58</td>\n",
       "    </tr>\n",
       "    <tr>\n",
       "      <th>3</th>\n",
       "      <td>307599</td>\n",
       "      <td>Kassulke, Ondricka and Metz</td>\n",
       "      <td>S1-65481</td>\n",
       "      <td>41</td>\n",
       "      <td>21.05</td>\n",
       "      <td>863.05</td>\n",
       "      <td>2014-01-01 15:05:22</td>\n",
       "    </tr>\n",
       "    <tr>\n",
       "      <th>4</th>\n",
       "      <td>412290</td>\n",
       "      <td>Jerde-Hilpert</td>\n",
       "      <td>S2-34077</td>\n",
       "      <td>6</td>\n",
       "      <td>83.21</td>\n",
       "      <td>499.26</td>\n",
       "      <td>2014-01-01 23:26:55</td>\n",
       "    </tr>\n",
       "  </tbody>\n",
       "</table>\n",
       "</div>"
      ],
      "text/plain": [
       "   account number                         name       sku  quantity  \\\n",
       "0          740150                   Barton LLC  B1-20000        39   \n",
       "1          714466              Trantow-Barrows  S2-77896        -1   \n",
       "2          218895                    Kulas Inc  B1-69924        23   \n",
       "3          307599  Kassulke, Ondricka and Metz  S1-65481        41   \n",
       "4          412290                Jerde-Hilpert  S2-34077         6   \n",
       "\n",
       "   unit price  ext price                 date  \n",
       "0       86.69    3380.91  2014-01-01 07:21:51  \n",
       "1       63.16     -63.16  2014-01-01 10:00:47  \n",
       "2       90.70    2086.10  2014-01-01 13:24:58  \n",
       "3       21.05     863.05  2014-01-01 15:05:22  \n",
       "4       83.21     499.26  2014-01-01 23:26:55  "
      ]
     },
     "execution_count": 15,
     "metadata": {},
     "output_type": "execute_result"
    }
   ],
   "source": [
    "df.head()"
   ]
  },
  {
   "cell_type": "markdown",
   "metadata": {},
   "source": [
    "Check if there is NaN in the dataset"
   ]
  },
  {
   "cell_type": "code",
   "execution_count": 16,
   "metadata": {},
   "outputs": [
    {
     "data": {
      "text/plain": [
       "account number    0\n",
       "name              0\n",
       "sku               0\n",
       "quantity          0\n",
       "unit price        0\n",
       "ext price         0\n",
       "date              0\n",
       "dtype: int64"
      ]
     },
     "execution_count": 16,
     "metadata": {},
     "output_type": "execute_result"
    }
   ],
   "source": [
    "df.isna().sum()"
   ]
  },
  {
   "cell_type": "markdown",
   "metadata": {},
   "source": [
    "Summarize the data by customer and get the top 10 customers.\n",
    "Also, clean up the column names for consistency.\n",
    "\n",
    "Frist, let group the data by client names:"
   ]
  },
  {
   "cell_type": "code",
   "execution_count": 17,
   "metadata": {},
   "outputs": [
    {
     "data": {
      "text/plain": [
       "array(['Barton LLC', 'Trantow-Barrows', 'Kulas Inc',\n",
       "       'Kassulke, Ondricka and Metz', 'Jerde-Hilpert', 'Koepp Ltd',\n",
       "       'Fritsch, Russel and Anderson', 'Kiehn-Spinka', 'Keeling LLC',\n",
       "       'Frami, Hills and Schmidt', 'Stokes LLC', 'Kuhn-Gusikowski',\n",
       "       'Herman LLC', 'White-Trantow', 'Sanford and Sons', 'Pollich LLC',\n",
       "       'Will LLC', 'Cronin, Oberbrunner and Spencer',\n",
       "       'Halvorson, Crona and Champlin', 'Purdy-Kunde'], dtype=object)"
      ]
     },
     "execution_count": 17,
     "metadata": {},
     "output_type": "execute_result"
    }
   ],
   "source": [
    "# Option 1: the list of clients\n",
    "df['name'].unique()"
   ]
  },
  {
   "cell_type": "code",
   "execution_count": 18,
   "metadata": {},
   "outputs": [
    {
     "data": {
      "text/html": [
       "<div>\n",
       "<style scoped>\n",
       "    .dataframe tbody tr th:only-of-type {\n",
       "        vertical-align: middle;\n",
       "    }\n",
       "\n",
       "    .dataframe tbody tr th {\n",
       "        vertical-align: top;\n",
       "    }\n",
       "\n",
       "    .dataframe thead tr th {\n",
       "        text-align: left;\n",
       "    }\n",
       "\n",
       "    .dataframe thead tr:last-of-type th {\n",
       "        text-align: right;\n",
       "    }\n",
       "</style>\n",
       "<table border=\"1\" class=\"dataframe\">\n",
       "  <thead>\n",
       "    <tr>\n",
       "      <th></th>\n",
       "      <th colspan=\"8\" halign=\"left\">ext price</th>\n",
       "      <th colspan=\"8\" halign=\"left\">quantity</th>\n",
       "    </tr>\n",
       "    <tr>\n",
       "      <th></th>\n",
       "      <th>count</th>\n",
       "      <th>mean</th>\n",
       "      <th>std</th>\n",
       "      <th>min</th>\n",
       "      <th>25%</th>\n",
       "      <th>50%</th>\n",
       "      <th>75%</th>\n",
       "      <th>max</th>\n",
       "      <th>count</th>\n",
       "      <th>mean</th>\n",
       "      <th>std</th>\n",
       "      <th>min</th>\n",
       "      <th>25%</th>\n",
       "      <th>50%</th>\n",
       "      <th>75%</th>\n",
       "      <th>max</th>\n",
       "    </tr>\n",
       "    <tr>\n",
       "      <th>name</th>\n",
       "      <th></th>\n",
       "      <th></th>\n",
       "      <th></th>\n",
       "      <th></th>\n",
       "      <th></th>\n",
       "      <th></th>\n",
       "      <th></th>\n",
       "      <th></th>\n",
       "      <th></th>\n",
       "      <th></th>\n",
       "      <th></th>\n",
       "      <th></th>\n",
       "      <th></th>\n",
       "      <th></th>\n",
       "      <th></th>\n",
       "      <th></th>\n",
       "    </tr>\n",
       "  </thead>\n",
       "  <tbody>\n",
       "    <tr>\n",
       "      <th>Barton LLC</th>\n",
       "      <td>82.0</td>\n",
       "      <td>1334.615854</td>\n",
       "      <td>1059.889564</td>\n",
       "      <td>-65.45</td>\n",
       "      <td>346.2875</td>\n",
       "      <td>1280.640</td>\n",
       "      <td>1948.6950</td>\n",
       "      <td>4543.96</td>\n",
       "      <td>82.0</td>\n",
       "      <td>24.890244</td>\n",
       "      <td>14.200510</td>\n",
       "      <td>-1.0</td>\n",
       "      <td>12.25</td>\n",
       "      <td>28.0</td>\n",
       "      <td>35.75</td>\n",
       "      <td>49.0</td>\n",
       "    </tr>\n",
       "    <tr>\n",
       "      <th>Cronin, Oberbrunner and Spencer</th>\n",
       "      <td>67.0</td>\n",
       "      <td>1339.321642</td>\n",
       "      <td>1067.268339</td>\n",
       "      <td>58.77</td>\n",
       "      <td>391.0550</td>\n",
       "      <td>1123.500</td>\n",
       "      <td>2116.7950</td>\n",
       "      <td>4162.40</td>\n",
       "      <td>67.0</td>\n",
       "      <td>24.970149</td>\n",
       "      <td>13.760913</td>\n",
       "      <td>3.0</td>\n",
       "      <td>12.50</td>\n",
       "      <td>28.0</td>\n",
       "      <td>35.00</td>\n",
       "      <td>49.0</td>\n",
       "    </tr>\n",
       "    <tr>\n",
       "      <th>Frami, Hills and Schmidt</th>\n",
       "      <td>72.0</td>\n",
       "      <td>1438.466528</td>\n",
       "      <td>958.664895</td>\n",
       "      <td>92.28</td>\n",
       "      <td>591.7375</td>\n",
       "      <td>1509.690</td>\n",
       "      <td>2046.0000</td>\n",
       "      <td>4313.42</td>\n",
       "      <td>72.0</td>\n",
       "      <td>26.430556</td>\n",
       "      <td>13.765466</td>\n",
       "      <td>2.0</td>\n",
       "      <td>16.00</td>\n",
       "      <td>28.0</td>\n",
       "      <td>38.00</td>\n",
       "      <td>49.0</td>\n",
       "    </tr>\n",
       "    <tr>\n",
       "      <th>Fritsch, Russel and Anderson</th>\n",
       "      <td>81.0</td>\n",
       "      <td>1385.366790</td>\n",
       "      <td>1078.738174</td>\n",
       "      <td>34.81</td>\n",
       "      <td>535.3600</td>\n",
       "      <td>1050.120</td>\n",
       "      <td>2087.1900</td>\n",
       "      <td>3953.17</td>\n",
       "      <td>81.0</td>\n",
       "      <td>26.074074</td>\n",
       "      <td>13.893144</td>\n",
       "      <td>1.0</td>\n",
       "      <td>12.00</td>\n",
       "      <td>27.0</td>\n",
       "      <td>38.00</td>\n",
       "      <td>49.0</td>\n",
       "    </tr>\n",
       "    <tr>\n",
       "      <th>Halvorson, Crona and Champlin</th>\n",
       "      <td>58.0</td>\n",
       "      <td>1206.971724</td>\n",
       "      <td>996.836661</td>\n",
       "      <td>92.70</td>\n",
       "      <td>543.4200</td>\n",
       "      <td>925.435</td>\n",
       "      <td>1658.3225</td>\n",
       "      <td>4174.72</td>\n",
       "      <td>58.0</td>\n",
       "      <td>22.137931</td>\n",
       "      <td>13.413071</td>\n",
       "      <td>2.0</td>\n",
       "      <td>10.50</td>\n",
       "      <td>19.5</td>\n",
       "      <td>33.00</td>\n",
       "      <td>49.0</td>\n",
       "    </tr>\n",
       "    <tr>\n",
       "      <th>Herman LLC</th>\n",
       "      <td>62.0</td>\n",
       "      <td>1336.532258</td>\n",
       "      <td>1045.200332</td>\n",
       "      <td>-12.17</td>\n",
       "      <td>440.9325</td>\n",
       "      <td>1095.490</td>\n",
       "      <td>1973.3850</td>\n",
       "      <td>3970.12</td>\n",
       "      <td>62.0</td>\n",
       "      <td>24.806452</td>\n",
       "      <td>15.020029</td>\n",
       "      <td>-1.0</td>\n",
       "      <td>10.00</td>\n",
       "      <td>25.0</td>\n",
       "      <td>37.75</td>\n",
       "      <td>49.0</td>\n",
       "    </tr>\n",
       "    <tr>\n",
       "      <th>Jerde-Hilpert</th>\n",
       "      <td>89.0</td>\n",
       "      <td>1265.072247</td>\n",
       "      <td>1096.957507</td>\n",
       "      <td>-37.88</td>\n",
       "      <td>317.7900</td>\n",
       "      <td>906.360</td>\n",
       "      <td>2247.1200</td>\n",
       "      <td>3791.62</td>\n",
       "      <td>89.0</td>\n",
       "      <td>22.460674</td>\n",
       "      <td>14.247852</td>\n",
       "      <td>-1.0</td>\n",
       "      <td>11.00</td>\n",
       "      <td>23.0</td>\n",
       "      <td>34.00</td>\n",
       "      <td>49.0</td>\n",
       "    </tr>\n",
       "    <tr>\n",
       "      <th>Kassulke, Ondricka and Metz</th>\n",
       "      <td>64.0</td>\n",
       "      <td>1350.797969</td>\n",
       "      <td>1192.775443</td>\n",
       "      <td>-86.38</td>\n",
       "      <td>445.5900</td>\n",
       "      <td>951.165</td>\n",
       "      <td>2042.6100</td>\n",
       "      <td>4418.47</td>\n",
       "      <td>64.0</td>\n",
       "      <td>25.734375</td>\n",
       "      <td>15.182741</td>\n",
       "      <td>-1.0</td>\n",
       "      <td>12.50</td>\n",
       "      <td>27.5</td>\n",
       "      <td>39.00</td>\n",
       "      <td>48.0</td>\n",
       "    </tr>\n",
       "    <tr>\n",
       "      <th>Keeling LLC</th>\n",
       "      <td>74.0</td>\n",
       "      <td>1363.977027</td>\n",
       "      <td>1095.664973</td>\n",
       "      <td>-97.16</td>\n",
       "      <td>482.8450</td>\n",
       "      <td>979.825</td>\n",
       "      <td>2064.0600</td>\n",
       "      <td>4498.20</td>\n",
       "      <td>74.0</td>\n",
       "      <td>24.405405</td>\n",
       "      <td>13.787943</td>\n",
       "      <td>-1.0</td>\n",
       "      <td>13.00</td>\n",
       "      <td>24.5</td>\n",
       "      <td>35.75</td>\n",
       "      <td>49.0</td>\n",
       "    </tr>\n",
       "    <tr>\n",
       "      <th>Kiehn-Spinka</th>\n",
       "      <td>79.0</td>\n",
       "      <td>1260.870506</td>\n",
       "      <td>1096.482652</td>\n",
       "      <td>-54.02</td>\n",
       "      <td>386.4800</td>\n",
       "      <td>894.960</td>\n",
       "      <td>1904.4600</td>\n",
       "      <td>4824.54</td>\n",
       "      <td>79.0</td>\n",
       "      <td>22.227848</td>\n",
       "      <td>13.689739</td>\n",
       "      <td>-1.0</td>\n",
       "      <td>12.00</td>\n",
       "      <td>21.0</td>\n",
       "      <td>33.00</td>\n",
       "      <td>49.0</td>\n",
       "    </tr>\n",
       "    <tr>\n",
       "      <th>Koepp Ltd</th>\n",
       "      <td>82.0</td>\n",
       "      <td>1264.152927</td>\n",
       "      <td>1179.968531</td>\n",
       "      <td>-97.02</td>\n",
       "      <td>339.2700</td>\n",
       "      <td>920.635</td>\n",
       "      <td>1980.9750</td>\n",
       "      <td>4708.41</td>\n",
       "      <td>82.0</td>\n",
       "      <td>21.829268</td>\n",
       "      <td>15.233009</td>\n",
       "      <td>-1.0</td>\n",
       "      <td>9.25</td>\n",
       "      <td>20.0</td>\n",
       "      <td>32.75</td>\n",
       "      <td>49.0</td>\n",
       "    </tr>\n",
       "    <tr>\n",
       "      <th>Kuhn-Gusikowski</th>\n",
       "      <td>73.0</td>\n",
       "      <td>1247.866849</td>\n",
       "      <td>1019.425894</td>\n",
       "      <td>-58.03</td>\n",
       "      <td>504.1000</td>\n",
       "      <td>829.690</td>\n",
       "      <td>2129.7600</td>\n",
       "      <td>4770.72</td>\n",
       "      <td>73.0</td>\n",
       "      <td>22.808219</td>\n",
       "      <td>14.066960</td>\n",
       "      <td>-1.0</td>\n",
       "      <td>11.00</td>\n",
       "      <td>23.0</td>\n",
       "      <td>34.00</td>\n",
       "      <td>49.0</td>\n",
       "    </tr>\n",
       "    <tr>\n",
       "      <th>Kulas Inc</th>\n",
       "      <td>94.0</td>\n",
       "      <td>1461.191064</td>\n",
       "      <td>1155.916364</td>\n",
       "      <td>-72.21</td>\n",
       "      <td>541.1600</td>\n",
       "      <td>1163.920</td>\n",
       "      <td>2323.7100</td>\n",
       "      <td>4590.81</td>\n",
       "      <td>94.0</td>\n",
       "      <td>24.095745</td>\n",
       "      <td>15.470450</td>\n",
       "      <td>-1.0</td>\n",
       "      <td>10.25</td>\n",
       "      <td>23.5</td>\n",
       "      <td>37.75</td>\n",
       "      <td>49.0</td>\n",
       "    </tr>\n",
       "    <tr>\n",
       "      <th>Pollich LLC</th>\n",
       "      <td>73.0</td>\n",
       "      <td>1196.536712</td>\n",
       "      <td>954.981093</td>\n",
       "      <td>51.29</td>\n",
       "      <td>485.9000</td>\n",
       "      <td>1013.430</td>\n",
       "      <td>1669.8000</td>\n",
       "      <td>4621.04</td>\n",
       "      <td>73.0</td>\n",
       "      <td>23.383562</td>\n",
       "      <td>14.890928</td>\n",
       "      <td>1.0</td>\n",
       "      <td>12.00</td>\n",
       "      <td>23.0</td>\n",
       "      <td>37.00</td>\n",
       "      <td>47.0</td>\n",
       "    </tr>\n",
       "    <tr>\n",
       "      <th>Purdy-Kunde</th>\n",
       "      <td>53.0</td>\n",
       "      <td>1469.777547</td>\n",
       "      <td>1148.110119</td>\n",
       "      <td>64.20</td>\n",
       "      <td>472.2900</td>\n",
       "      <td>1116.780</td>\n",
       "      <td>2339.5700</td>\n",
       "      <td>4414.62</td>\n",
       "      <td>53.0</td>\n",
       "      <td>27.358491</td>\n",
       "      <td>14.085036</td>\n",
       "      <td>2.0</td>\n",
       "      <td>13.00</td>\n",
       "      <td>30.0</td>\n",
       "      <td>39.00</td>\n",
       "      <td>49.0</td>\n",
       "    </tr>\n",
       "    <tr>\n",
       "      <th>Sanford and Sons</th>\n",
       "      <td>71.0</td>\n",
       "      <td>1391.872958</td>\n",
       "      <td>1059.467557</td>\n",
       "      <td>-89.45</td>\n",
       "      <td>604.4650</td>\n",
       "      <td>1025.200</td>\n",
       "      <td>2116.6650</td>\n",
       "      <td>4239.84</td>\n",
       "      <td>71.0</td>\n",
       "      <td>24.000000</td>\n",
       "      <td>13.856406</td>\n",
       "      <td>-1.0</td>\n",
       "      <td>13.50</td>\n",
       "      <td>24.0</td>\n",
       "      <td>35.00</td>\n",
       "      <td>48.0</td>\n",
       "    </tr>\n",
       "    <tr>\n",
       "      <th>Stokes LLC</th>\n",
       "      <td>72.0</td>\n",
       "      <td>1271.332222</td>\n",
       "      <td>1035.536929</td>\n",
       "      <td>-57.02</td>\n",
       "      <td>431.1175</td>\n",
       "      <td>1050.820</td>\n",
       "      <td>1819.1900</td>\n",
       "      <td>3775.22</td>\n",
       "      <td>72.0</td>\n",
       "      <td>24.527778</td>\n",
       "      <td>15.046381</td>\n",
       "      <td>-1.0</td>\n",
       "      <td>10.00</td>\n",
       "      <td>29.0</td>\n",
       "      <td>37.00</td>\n",
       "      <td>49.0</td>\n",
       "    </tr>\n",
       "    <tr>\n",
       "      <th>Trantow-Barrows</th>\n",
       "      <td>94.0</td>\n",
       "      <td>1312.567872</td>\n",
       "      <td>1082.326218</td>\n",
       "      <td>-64.63</td>\n",
       "      <td>470.9325</td>\n",
       "      <td>1089.915</td>\n",
       "      <td>1820.1450</td>\n",
       "      <td>4444.30</td>\n",
       "      <td>94.0</td>\n",
       "      <td>24.159574</td>\n",
       "      <td>15.581422</td>\n",
       "      <td>-1.0</td>\n",
       "      <td>10.00</td>\n",
       "      <td>24.0</td>\n",
       "      <td>37.75</td>\n",
       "      <td>49.0</td>\n",
       "    </tr>\n",
       "    <tr>\n",
       "      <th>White-Trantow</th>\n",
       "      <td>86.0</td>\n",
       "      <td>1579.558023</td>\n",
       "      <td>1192.794961</td>\n",
       "      <td>-76.46</td>\n",
       "      <td>648.4500</td>\n",
       "      <td>1245.525</td>\n",
       "      <td>2249.1175</td>\n",
       "      <td>4367.24</td>\n",
       "      <td>86.0</td>\n",
       "      <td>26.255814</td>\n",
       "      <td>13.939522</td>\n",
       "      <td>-1.0</td>\n",
       "      <td>15.00</td>\n",
       "      <td>27.0</td>\n",
       "      <td>39.00</td>\n",
       "      <td>48.0</td>\n",
       "    </tr>\n",
       "    <tr>\n",
       "      <th>Will LLC</th>\n",
       "      <td>74.0</td>\n",
       "      <td>1411.318919</td>\n",
       "      <td>1142.738993</td>\n",
       "      <td>-90.65</td>\n",
       "      <td>420.9550</td>\n",
       "      <td>1151.160</td>\n",
       "      <td>2057.0425</td>\n",
       "      <td>4301.00</td>\n",
       "      <td>74.0</td>\n",
       "      <td>24.702703</td>\n",
       "      <td>15.004775</td>\n",
       "      <td>-1.0</td>\n",
       "      <td>9.25</td>\n",
       "      <td>25.5</td>\n",
       "      <td>38.00</td>\n",
       "      <td>49.0</td>\n",
       "    </tr>\n",
       "  </tbody>\n",
       "</table>\n",
       "</div>"
      ],
      "text/plain": [
       "                                ext price                                   \\\n",
       "                                    count         mean          std    min   \n",
       "name                                                                         \n",
       "Barton LLC                           82.0  1334.615854  1059.889564 -65.45   \n",
       "Cronin, Oberbrunner and Spencer      67.0  1339.321642  1067.268339  58.77   \n",
       "Frami, Hills and Schmidt             72.0  1438.466528   958.664895  92.28   \n",
       "Fritsch, Russel and Anderson         81.0  1385.366790  1078.738174  34.81   \n",
       "Halvorson, Crona and Champlin        58.0  1206.971724   996.836661  92.70   \n",
       "Herman LLC                           62.0  1336.532258  1045.200332 -12.17   \n",
       "Jerde-Hilpert                        89.0  1265.072247  1096.957507 -37.88   \n",
       "Kassulke, Ondricka and Metz          64.0  1350.797969  1192.775443 -86.38   \n",
       "Keeling LLC                          74.0  1363.977027  1095.664973 -97.16   \n",
       "Kiehn-Spinka                         79.0  1260.870506  1096.482652 -54.02   \n",
       "Koepp Ltd                            82.0  1264.152927  1179.968531 -97.02   \n",
       "Kuhn-Gusikowski                      73.0  1247.866849  1019.425894 -58.03   \n",
       "Kulas Inc                            94.0  1461.191064  1155.916364 -72.21   \n",
       "Pollich LLC                          73.0  1196.536712   954.981093  51.29   \n",
       "Purdy-Kunde                          53.0  1469.777547  1148.110119  64.20   \n",
       "Sanford and Sons                     71.0  1391.872958  1059.467557 -89.45   \n",
       "Stokes LLC                           72.0  1271.332222  1035.536929 -57.02   \n",
       "Trantow-Barrows                      94.0  1312.567872  1082.326218 -64.63   \n",
       "White-Trantow                        86.0  1579.558023  1192.794961 -76.46   \n",
       "Will LLC                             74.0  1411.318919  1142.738993 -90.65   \n",
       "\n",
       "                                                                         \\\n",
       "                                      25%       50%        75%      max   \n",
       "name                                                                      \n",
       "Barton LLC                       346.2875  1280.640  1948.6950  4543.96   \n",
       "Cronin, Oberbrunner and Spencer  391.0550  1123.500  2116.7950  4162.40   \n",
       "Frami, Hills and Schmidt         591.7375  1509.690  2046.0000  4313.42   \n",
       "Fritsch, Russel and Anderson     535.3600  1050.120  2087.1900  3953.17   \n",
       "Halvorson, Crona and Champlin    543.4200   925.435  1658.3225  4174.72   \n",
       "Herman LLC                       440.9325  1095.490  1973.3850  3970.12   \n",
       "Jerde-Hilpert                    317.7900   906.360  2247.1200  3791.62   \n",
       "Kassulke, Ondricka and Metz      445.5900   951.165  2042.6100  4418.47   \n",
       "Keeling LLC                      482.8450   979.825  2064.0600  4498.20   \n",
       "Kiehn-Spinka                     386.4800   894.960  1904.4600  4824.54   \n",
       "Koepp Ltd                        339.2700   920.635  1980.9750  4708.41   \n",
       "Kuhn-Gusikowski                  504.1000   829.690  2129.7600  4770.72   \n",
       "Kulas Inc                        541.1600  1163.920  2323.7100  4590.81   \n",
       "Pollich LLC                      485.9000  1013.430  1669.8000  4621.04   \n",
       "Purdy-Kunde                      472.2900  1116.780  2339.5700  4414.62   \n",
       "Sanford and Sons                 604.4650  1025.200  2116.6650  4239.84   \n",
       "Stokes LLC                       431.1175  1050.820  1819.1900  3775.22   \n",
       "Trantow-Barrows                  470.9325  1089.915  1820.1450  4444.30   \n",
       "White-Trantow                    648.4500  1245.525  2249.1175  4367.24   \n",
       "Will LLC                         420.9550  1151.160  2057.0425  4301.00   \n",
       "\n",
       "                                quantity                                    \\\n",
       "                                   count       mean        std  min    25%   \n",
       "name                                                                         \n",
       "Barton LLC                          82.0  24.890244  14.200510 -1.0  12.25   \n",
       "Cronin, Oberbrunner and Spencer     67.0  24.970149  13.760913  3.0  12.50   \n",
       "Frami, Hills and Schmidt            72.0  26.430556  13.765466  2.0  16.00   \n",
       "Fritsch, Russel and Anderson        81.0  26.074074  13.893144  1.0  12.00   \n",
       "Halvorson, Crona and Champlin       58.0  22.137931  13.413071  2.0  10.50   \n",
       "Herman LLC                          62.0  24.806452  15.020029 -1.0  10.00   \n",
       "Jerde-Hilpert                       89.0  22.460674  14.247852 -1.0  11.00   \n",
       "Kassulke, Ondricka and Metz         64.0  25.734375  15.182741 -1.0  12.50   \n",
       "Keeling LLC                         74.0  24.405405  13.787943 -1.0  13.00   \n",
       "Kiehn-Spinka                        79.0  22.227848  13.689739 -1.0  12.00   \n",
       "Koepp Ltd                           82.0  21.829268  15.233009 -1.0   9.25   \n",
       "Kuhn-Gusikowski                     73.0  22.808219  14.066960 -1.0  11.00   \n",
       "Kulas Inc                           94.0  24.095745  15.470450 -1.0  10.25   \n",
       "Pollich LLC                         73.0  23.383562  14.890928  1.0  12.00   \n",
       "Purdy-Kunde                         53.0  27.358491  14.085036  2.0  13.00   \n",
       "Sanford and Sons                    71.0  24.000000  13.856406 -1.0  13.50   \n",
       "Stokes LLC                          72.0  24.527778  15.046381 -1.0  10.00   \n",
       "Trantow-Barrows                     94.0  24.159574  15.581422 -1.0  10.00   \n",
       "White-Trantow                       86.0  26.255814  13.939522 -1.0  15.00   \n",
       "Will LLC                            74.0  24.702703  15.004775 -1.0   9.25   \n",
       "\n",
       "                                                    \n",
       "                                  50%    75%   max  \n",
       "name                                                \n",
       "Barton LLC                       28.0  35.75  49.0  \n",
       "Cronin, Oberbrunner and Spencer  28.0  35.00  49.0  \n",
       "Frami, Hills and Schmidt         28.0  38.00  49.0  \n",
       "Fritsch, Russel and Anderson     27.0  38.00  49.0  \n",
       "Halvorson, Crona and Champlin    19.5  33.00  49.0  \n",
       "Herman LLC                       25.0  37.75  49.0  \n",
       "Jerde-Hilpert                    23.0  34.00  49.0  \n",
       "Kassulke, Ondricka and Metz      27.5  39.00  48.0  \n",
       "Keeling LLC                      24.5  35.75  49.0  \n",
       "Kiehn-Spinka                     21.0  33.00  49.0  \n",
       "Koepp Ltd                        20.0  32.75  49.0  \n",
       "Kuhn-Gusikowski                  23.0  34.00  49.0  \n",
       "Kulas Inc                        23.5  37.75  49.0  \n",
       "Pollich LLC                      23.0  37.00  47.0  \n",
       "Purdy-Kunde                      30.0  39.00  49.0  \n",
       "Sanford and Sons                 24.0  35.00  48.0  \n",
       "Stokes LLC                       29.0  37.00  49.0  \n",
       "Trantow-Barrows                  24.0  37.75  49.0  \n",
       "White-Trantow                    27.0  39.00  48.0  \n",
       "Will LLC                         25.5  38.00  49.0  "
      ]
     },
     "execution_count": 18,
     "metadata": {},
     "output_type": "execute_result"
    }
   ],
   "source": [
    "df.groupby('name')[['ext price', 'quantity']].describe()"
   ]
  },
  {
   "cell_type": "code",
   "execution_count": 19,
   "metadata": {},
   "outputs": [
    {
     "data": {
      "text/plain": [
       "name\n",
       "Barton LLC                         82\n",
       "Cronin, Oberbrunner and Spencer    67\n",
       "Frami, Hills and Schmidt           72\n",
       "Fritsch, Russel and Anderson       81\n",
       "Halvorson, Crona and Champlin      58\n",
       "Herman LLC                         62\n",
       "Jerde-Hilpert                      89\n",
       "Kassulke, Ondricka and Metz        64\n",
       "Keeling LLC                        74\n",
       "Kiehn-Spinka                       79\n",
       "Koepp Ltd                          82\n",
       "Kuhn-Gusikowski                    73\n",
       "Kulas Inc                          94\n",
       "Pollich LLC                        73\n",
       "Purdy-Kunde                        53\n",
       "Sanford and Sons                   71\n",
       "Stokes LLC                         72\n",
       "Trantow-Barrows                    94\n",
       "White-Trantow                      86\n",
       "Will LLC                           74\n",
       "dtype: int64"
      ]
     },
     "execution_count": 19,
     "metadata": {},
     "output_type": "execute_result"
    }
   ],
   "source": [
    "# Options 2: for each client, what is the number of transactions performed\n",
    "df.groupby('name')[['ext price', 'quantity']].size()"
   ]
  },
  {
   "cell_type": "code",
   "execution_count": 20,
   "metadata": {},
   "outputs": [
    {
     "data": {
      "text/html": [
       "<div>\n",
       "<style scoped>\n",
       "    .dataframe tbody tr th:only-of-type {\n",
       "        vertical-align: middle;\n",
       "    }\n",
       "\n",
       "    .dataframe tbody tr th {\n",
       "        vertical-align: top;\n",
       "    }\n",
       "\n",
       "    .dataframe thead th {\n",
       "        text-align: right;\n",
       "    }\n",
       "</style>\n",
       "<table border=\"1\" class=\"dataframe\">\n",
       "  <thead>\n",
       "    <tr style=\"text-align: right;\">\n",
       "      <th></th>\n",
       "      <th>name</th>\n",
       "      <th>count</th>\n",
       "    </tr>\n",
       "  </thead>\n",
       "  <tbody>\n",
       "    <tr>\n",
       "      <th>0</th>\n",
       "      <td>Barton LLC</td>\n",
       "      <td>82</td>\n",
       "    </tr>\n",
       "    <tr>\n",
       "      <th>1</th>\n",
       "      <td>Cronin, Oberbrunner and Spencer</td>\n",
       "      <td>67</td>\n",
       "    </tr>\n",
       "    <tr>\n",
       "      <th>2</th>\n",
       "      <td>Frami, Hills and Schmidt</td>\n",
       "      <td>72</td>\n",
       "    </tr>\n",
       "    <tr>\n",
       "      <th>3</th>\n",
       "      <td>Fritsch, Russel and Anderson</td>\n",
       "      <td>81</td>\n",
       "    </tr>\n",
       "    <tr>\n",
       "      <th>4</th>\n",
       "      <td>Halvorson, Crona and Champlin</td>\n",
       "      <td>58</td>\n",
       "    </tr>\n",
       "    <tr>\n",
       "      <th>5</th>\n",
       "      <td>Herman LLC</td>\n",
       "      <td>62</td>\n",
       "    </tr>\n",
       "    <tr>\n",
       "      <th>6</th>\n",
       "      <td>Jerde-Hilpert</td>\n",
       "      <td>89</td>\n",
       "    </tr>\n",
       "    <tr>\n",
       "      <th>7</th>\n",
       "      <td>Kassulke, Ondricka and Metz</td>\n",
       "      <td>64</td>\n",
       "    </tr>\n",
       "    <tr>\n",
       "      <th>8</th>\n",
       "      <td>Keeling LLC</td>\n",
       "      <td>74</td>\n",
       "    </tr>\n",
       "    <tr>\n",
       "      <th>9</th>\n",
       "      <td>Kiehn-Spinka</td>\n",
       "      <td>79</td>\n",
       "    </tr>\n",
       "    <tr>\n",
       "      <th>10</th>\n",
       "      <td>Koepp Ltd</td>\n",
       "      <td>82</td>\n",
       "    </tr>\n",
       "    <tr>\n",
       "      <th>11</th>\n",
       "      <td>Kuhn-Gusikowski</td>\n",
       "      <td>73</td>\n",
       "    </tr>\n",
       "    <tr>\n",
       "      <th>12</th>\n",
       "      <td>Kulas Inc</td>\n",
       "      <td>94</td>\n",
       "    </tr>\n",
       "    <tr>\n",
       "      <th>13</th>\n",
       "      <td>Pollich LLC</td>\n",
       "      <td>73</td>\n",
       "    </tr>\n",
       "    <tr>\n",
       "      <th>14</th>\n",
       "      <td>Purdy-Kunde</td>\n",
       "      <td>53</td>\n",
       "    </tr>\n",
       "    <tr>\n",
       "      <th>15</th>\n",
       "      <td>Sanford and Sons</td>\n",
       "      <td>71</td>\n",
       "    </tr>\n",
       "    <tr>\n",
       "      <th>16</th>\n",
       "      <td>Stokes LLC</td>\n",
       "      <td>72</td>\n",
       "    </tr>\n",
       "    <tr>\n",
       "      <th>17</th>\n",
       "      <td>Trantow-Barrows</td>\n",
       "      <td>94</td>\n",
       "    </tr>\n",
       "    <tr>\n",
       "      <th>18</th>\n",
       "      <td>White-Trantow</td>\n",
       "      <td>86</td>\n",
       "    </tr>\n",
       "    <tr>\n",
       "      <th>19</th>\n",
       "      <td>Will LLC</td>\n",
       "      <td>74</td>\n",
       "    </tr>\n",
       "  </tbody>\n",
       "</table>\n",
       "</div>"
      ],
      "text/plain": [
       "                               name  count\n",
       "0                        Barton LLC     82\n",
       "1   Cronin, Oberbrunner and Spencer     67\n",
       "2          Frami, Hills and Schmidt     72\n",
       "3      Fritsch, Russel and Anderson     81\n",
       "4     Halvorson, Crona and Champlin     58\n",
       "5                        Herman LLC     62\n",
       "6                     Jerde-Hilpert     89\n",
       "7       Kassulke, Ondricka and Metz     64\n",
       "8                       Keeling LLC     74\n",
       "9                      Kiehn-Spinka     79\n",
       "10                        Koepp Ltd     82\n",
       "11                  Kuhn-Gusikowski     73\n",
       "12                        Kulas Inc     94\n",
       "13                      Pollich LLC     73\n",
       "14                      Purdy-Kunde     53\n",
       "15                 Sanford and Sons     71\n",
       "16                       Stokes LLC     72\n",
       "17                  Trantow-Barrows     94\n",
       "18                    White-Trantow     86\n",
       "19                         Will LLC     74"
      ]
     },
     "execution_count": 20,
     "metadata": {},
     "output_type": "execute_result"
    }
   ],
   "source": [
    "df.groupby('name')[['ext price', 'quantity']].size().reset_index(name=\"count\")"
   ]
  },
  {
   "cell_type": "code",
   "execution_count": 21,
   "metadata": {},
   "outputs": [],
   "source": [
    "# Option 3: more compact but hard to read using pandas.agg, but very useful\n",
    "\n",
    "# agregate : https://pandas.pydata.org/pandas-docs/stable/reference/api/pandas.DataFrame.agg.html\n",
    "# statistics : https://stackoverflow.com/questions/19384532/get-statistics-for-each-group-such-as-count-mean-etc-using-pandas-groupby\n",
    "\n",
    "top_10 = (df.groupby('name')[['ext price', 'quantity']].agg({'ext price': 'sum', 'quantity': 'count'})\n",
    "          .sort_values(by='ext price', ascending=False))[:10].reset_index()\n",
    "top_10.rename(columns={'name': 'Name', 'ext price': 'Sales', 'quantity': 'Purchases'}, inplace=True)"
   ]
  },
  {
   "cell_type": "code",
   "execution_count": 22,
   "metadata": {},
   "outputs": [
    {
     "data": {
      "text/html": [
       "<div>\n",
       "<style scoped>\n",
       "    .dataframe tbody tr th:only-of-type {\n",
       "        vertical-align: middle;\n",
       "    }\n",
       "\n",
       "    .dataframe tbody tr th {\n",
       "        vertical-align: top;\n",
       "    }\n",
       "\n",
       "    .dataframe thead th {\n",
       "        text-align: right;\n",
       "    }\n",
       "</style>\n",
       "<table border=\"1\" class=\"dataframe\">\n",
       "  <thead>\n",
       "    <tr style=\"text-align: right;\">\n",
       "      <th></th>\n",
       "      <th>Name</th>\n",
       "      <th>Sales</th>\n",
       "      <th>Purchases</th>\n",
       "    </tr>\n",
       "  </thead>\n",
       "  <tbody>\n",
       "    <tr>\n",
       "      <th>0</th>\n",
       "      <td>Kulas Inc</td>\n",
       "      <td>137351.96</td>\n",
       "      <td>94</td>\n",
       "    </tr>\n",
       "    <tr>\n",
       "      <th>1</th>\n",
       "      <td>White-Trantow</td>\n",
       "      <td>135841.99</td>\n",
       "      <td>86</td>\n",
       "    </tr>\n",
       "    <tr>\n",
       "      <th>2</th>\n",
       "      <td>Trantow-Barrows</td>\n",
       "      <td>123381.38</td>\n",
       "      <td>94</td>\n",
       "    </tr>\n",
       "    <tr>\n",
       "      <th>3</th>\n",
       "      <td>Jerde-Hilpert</td>\n",
       "      <td>112591.43</td>\n",
       "      <td>89</td>\n",
       "    </tr>\n",
       "    <tr>\n",
       "      <th>4</th>\n",
       "      <td>Fritsch, Russel and Anderson</td>\n",
       "      <td>112214.71</td>\n",
       "      <td>81</td>\n",
       "    </tr>\n",
       "    <tr>\n",
       "      <th>5</th>\n",
       "      <td>Barton LLC</td>\n",
       "      <td>109438.50</td>\n",
       "      <td>82</td>\n",
       "    </tr>\n",
       "    <tr>\n",
       "      <th>6</th>\n",
       "      <td>Will LLC</td>\n",
       "      <td>104437.60</td>\n",
       "      <td>74</td>\n",
       "    </tr>\n",
       "    <tr>\n",
       "      <th>7</th>\n",
       "      <td>Koepp Ltd</td>\n",
       "      <td>103660.54</td>\n",
       "      <td>82</td>\n",
       "    </tr>\n",
       "    <tr>\n",
       "      <th>8</th>\n",
       "      <td>Frami, Hills and Schmidt</td>\n",
       "      <td>103569.59</td>\n",
       "      <td>72</td>\n",
       "    </tr>\n",
       "    <tr>\n",
       "      <th>9</th>\n",
       "      <td>Keeling LLC</td>\n",
       "      <td>100934.30</td>\n",
       "      <td>74</td>\n",
       "    </tr>\n",
       "  </tbody>\n",
       "</table>\n",
       "</div>"
      ],
      "text/plain": [
       "                           Name      Sales  Purchases\n",
       "0                     Kulas Inc  137351.96         94\n",
       "1                 White-Trantow  135841.99         86\n",
       "2               Trantow-Barrows  123381.38         94\n",
       "3                 Jerde-Hilpert  112591.43         89\n",
       "4  Fritsch, Russel and Anderson  112214.71         81\n",
       "5                    Barton LLC  109438.50         82\n",
       "6                      Will LLC  104437.60         74\n",
       "7                     Koepp Ltd  103660.54         82\n",
       "8      Frami, Hills and Schmidt  103569.59         72\n",
       "9                   Keeling LLC  100934.30         74"
      ]
     },
     "execution_count": 22,
     "metadata": {},
     "output_type": "execute_result"
    }
   ],
   "source": [
    "top_10"
   ]
  },
  {
   "cell_type": "markdown",
   "metadata": {},
   "source": [
    "Look at available styles"
   ]
  },
  {
   "cell_type": "code",
   "execution_count": 23,
   "metadata": {},
   "outputs": [
    {
     "data": {
      "text/plain": [
       "['Solarize_Light2',\n",
       " '_classic_test_patch',\n",
       " 'bmh',\n",
       " 'classic',\n",
       " 'dark_background',\n",
       " 'fast',\n",
       " 'fivethirtyeight',\n",
       " 'ggplot',\n",
       " 'grayscale',\n",
       " 'seaborn',\n",
       " 'seaborn-bright',\n",
       " 'seaborn-colorblind',\n",
       " 'seaborn-dark',\n",
       " 'seaborn-dark-palette',\n",
       " 'seaborn-darkgrid',\n",
       " 'seaborn-deep',\n",
       " 'seaborn-muted',\n",
       " 'seaborn-notebook',\n",
       " 'seaborn-paper',\n",
       " 'seaborn-pastel',\n",
       " 'seaborn-poster',\n",
       " 'seaborn-talk',\n",
       " 'seaborn-ticks',\n",
       " 'seaborn-white',\n",
       " 'seaborn-whitegrid',\n",
       " 'tableau-colorblind10']"
      ]
     },
     "execution_count": 23,
     "metadata": {},
     "output_type": "execute_result"
    }
   ],
   "source": [
    "plt.style.available"
   ]
  },
  {
   "cell_type": "markdown",
   "metadata": {},
   "source": [
    "Use the ggplot style to improve the overall esthetics."
   ]
  },
  {
   "cell_type": "code",
   "execution_count": 24,
   "metadata": {},
   "outputs": [],
   "source": [
    "plt.style.use('ggplot')"
   ]
  },
  {
   "cell_type": "markdown",
   "metadata": {},
   "source": [
    "Basic pandas plot to get started (next part of this course: sorry)"
   ]
  },
  {
   "cell_type": "code",
   "execution_count": 25,
   "metadata": {},
   "outputs": [
    {
     "data": {
      "image/png": "[encoded data removed]",
      "text/plain": [
       "<Figure size 432x288 with 1 Axes>"
      ]
     },
     "metadata": {},
     "output_type": "display_data"
    }
   ],
   "source": [
    "top_10.plot(kind='barh', y=\"Sales\", x=\"Name\");"
   ]
  },
  {
   "cell_type": "markdown",
   "metadata": {},
   "source": [
    "Get the figure and axes for future customization"
   ]
  },
  {
   "cell_type": "code",
   "execution_count": 26,
   "metadata": {},
   "outputs": [
    {
     "data": {
      "image/png": "[encoded data removed]",
      "text/plain": [
       "<Figure size 432x288 with 1 Axes>"
      ]
     },
     "metadata": {},
     "output_type": "display_data"
    }
   ],
   "source": [
    "fig, ax = plt.subplots()\n",
    "_= top_10.plot(kind='barh', y=\"Sales\", x=\"Name\", ax=ax)"
   ]
  },
  {
   "cell_type": "markdown",
   "metadata": {},
   "source": [
    "Set some limits and labels"
   ]
  },
  {
   "cell_type": "code",
   "execution_count": 27,
   "metadata": {},
   "outputs": [
    {
     "data": {
      "image/png": "[encoded data removed]",
      "text/plain": [
       "<Figure size 432x288 with 1 Axes>"
      ]
     },
     "metadata": {},
     "output_type": "display_data"
    }
   ],
   "source": [
    "fig, ax = plt.subplots()\n",
    "top_10.plot(kind='barh', y=\"Sales\", x=\"Name\", ax=ax)\n",
    "ax.set_xlim([-10000, 140000])\n",
    "ax.set_xlabel('Total Revenue')\n",
    "ax.set_ylabel('Customer');"
   ]
  },
  {
   "cell_type": "markdown",
   "metadata": {},
   "source": [
    "Alternative api using set"
   ]
  },
  {
   "cell_type": "code",
   "execution_count": 28,
   "metadata": {},
   "outputs": [
    {
     "data": {
      "image/png": "[encoded data removed]",
      "text/plain": [
       "<Figure size 432x288 with 1 Axes>"
      ]
     },
     "metadata": {},
     "output_type": "display_data"
    }
   ],
   "source": [
    "fig, ax = plt.subplots()\n",
    "top_10.plot(kind='barh', y=\"Sales\", x=\"Name\", ax=ax)\n",
    "ax.set_xlim([-10000, 140000])\n",
    "ax.set(title='2014 Revenue', xlabel='Total Revenue', ylabel='Customer');"
   ]
  },
  {
   "cell_type": "markdown",
   "metadata": {},
   "source": [
    "Hide the legend since it is not useful in this case. Also change the size of the image."
   ]
  },
  {
   "cell_type": "code",
   "execution_count": 29,
   "metadata": {},
   "outputs": [
    {
     "data": {
      "image/png": "[encoded data removed]",
      "text/plain": [
       "<Figure size 360x432 with 1 Axes>"
      ]
     },
     "metadata": {},
     "output_type": "display_data"
    }
   ],
   "source": [
    "fig, ax = plt.subplots(figsize=(5, 6))\n",
    "top_10.plot(kind='barh', y=\"Sales\", x=\"Name\", ax=ax)\n",
    "ax.set_xlim([-10000, 140000])\n",
    "ax.set(title='2014 Revenue', xlabel='Total Revenue', ylabel='Customer')\n",
    "ax.legend().set_visible(False)"
   ]
  },
  {
   "cell_type": "markdown",
   "metadata": {},
   "source": [
    "Add some annotations, and turn off the grid - just to show how it is done"
   ]
  },
  {
   "cell_type": "code",
   "execution_count": 33,
   "metadata": {},
   "outputs": [
    {
     "data": {
      "image/png": "[encoded data removed]",
      "text/plain": [
       "<Figure size 360x432 with 1 Axes>"
      ]
     },
     "metadata": {},
     "output_type": "display_data"
    }
   ],
   "source": [
    "fig, ax = plt.subplots(figsize=(5, 6))\n",
    "top_10.plot(kind='barh', y=\"Sales\", x=\"Name\", ax=ax)\n",
    "avg = top_10['Sales'].mean()\n",
    "ax.set_xlim([-10000, 140000])\n",
    "ax.set(title='2014 Revenue', xlabel='Total Revenue', ylabel='Customer')\n",
    "ax.axvline(x=avg, color='b', label='Average', linestyle='--', linewidth=1)\n",
    "ax.grid(False)\n",
    "ax.legend().set_visible(False)\n",
    "for cust in [3, 5, 8]:\n",
    "    ax.text(115000, cust, \"New Customer\") #115000 is in the xlim defined"
   ]
  },
  {
   "cell_type": "markdown",
   "metadata": {},
   "source": [
    "To clean up the currency in Total Revenue, we define a custom formatting function"
   ]
  },
  {
   "cell_type": "code",
   "execution_count": 50,
   "metadata": {},
   "outputs": [],
   "source": [
    "def currency(x,pos):\n",
    "    'The two args are the value and tick position'\n",
    "    if x >= 1000000:\n",
    "        return '${:1.1f}M'.format(x*1e-6)\n",
    "    return '${:1.0f}K'.format(x*1e-3)"
   ]
  },
  {
   "cell_type": "markdown",
   "metadata": {},
   "source": [
    "Use the new formatter"
   ]
  },
  {
   "cell_type": "code",
   "execution_count": 51,
   "metadata": {},
   "outputs": [
    {
     "data": {
      "image/png": "[encoded data removed]",
      "text/plain": [
       "<Figure size 432x288 with 1 Axes>"
      ]
     },
     "metadata": {},
     "output_type": "display_data"
    }
   ],
   "source": [
    "fig, ax = plt.subplots()\n",
    "top_10.plot(kind='barh', y=\"Sales\", x=\"Name\", ax=ax)\n",
    "ax.set_xlim([-10000, 140000])\n",
    "ax.set(title='2014 Revenue', xlabel='Total Revenue', ylabel='Customer')\n",
    "formatter = FuncFormatter(currency)\n",
    "ax.xaxis.set_major_formatter(formatter)\n",
    "ax.legend().set_visible(False)"
   ]
  },
  {
   "cell_type": "markdown",
   "metadata": {},
   "source": [
    "Add two plots to a figure"
   ]
  },
  {
   "cell_type": "code",
   "execution_count": 56,
   "metadata": {},
   "outputs": [
    {
     "data": {
      "image/png": "[encoded data removed]",
      "text/plain": [
       "<Figure size 720x288 with 2 Axes>"
      ]
     },
     "metadata": {},
     "output_type": "display_data"
    }
   ],
   "source": [
    "# Get the figure and the axes\n",
    "fig, (ax0, ax1) = plt.subplots(nrows=1, ncols=2, sharey=True, figsize=(10,4))\n",
    "\n",
    "# Build the first plot\n",
    "top_10.plot(kind='barh', x='Name', y='Sales', ax=ax0)\n",
    "ax0.set(title='Revenue', xlabel='Total revenue', ylabel='Customers')\n",
    "formatter = FuncFormatter(currency)\n",
    "ax0.xaxis.set_major_formatter(formatter)\n",
    "\n",
    "# Add average line to the first plot\n",
    "revenue_average = top_10['Sales'].mean()\n",
    "ax0.axvline(x=revenue_average, color='b', label='Average', linestyle='--', linewidth=1)\n",
    "\n",
    "# Build the second plot\n",
    "top_10.plot(kind='barh', x='Name', y='Purchases', ax=ax1)\n",
    "ax1.set(title='Units', xlabel='Total units', ylabel='')\n",
    "\n",
    "# Add average line to the second plot\n",
    "purchases_average = top_10['Purchases'].mean()\n",
    "ax1.axvline(x=purchases_average, color='b', label='Average', linestyle='--', linewidth=1)\n",
    "\n",
    "# Title the figure\n",
    "fig.suptitle('2014 Sales Analysis', fontsize=14, fontweight='bold')\n",
    "\n",
    "# Hide the plot legends\n",
    "ax0.legend().set_visible(False)\n",
    "ax1.legend().set_visible(False)"
   ]
  },
  {
   "cell_type": "markdown",
   "metadata": {},
   "source": [
    "Save some files"
   ]
  },
  {
   "cell_type": "code",
   "execution_count": 57,
   "metadata": {},
   "outputs": [
    {
     "data": {
      "text/plain": [
       "{'eps': 'Encapsulated Postscript',\n",
       " 'jpg': 'Joint Photographic Experts Group',\n",
       " 'jpeg': 'Joint Photographic Experts Group',\n",
       " 'pdf': 'Portable Document Format',\n",
       " 'pgf': 'PGF code for LaTeX',\n",
       " 'png': 'Portable Network Graphics',\n",
       " 'ps': 'Postscript',\n",
       " 'raw': 'Raw RGBA bitmap',\n",
       " 'rgba': 'Raw RGBA bitmap',\n",
       " 'svg': 'Scalable Vector Graphics',\n",
       " 'svgz': 'Scalable Vector Graphics',\n",
       " 'tif': 'Tagged Image File Format',\n",
       " 'tiff': 'Tagged Image File Format'}"
      ]
     },
     "execution_count": 57,
     "metadata": {},
     "output_type": "execute_result"
    }
   ],
   "source": [
    "# Let's look at how to save the files\n",
    "fig.canvas.get_supported_filetypes()"
   ]
  },
  {
   "cell_type": "code",
   "execution_count": 58,
   "metadata": {},
   "outputs": [],
   "source": [
    "fig.savefig('images/sales.png', transparent=False, dpi=80, bbox_inches=\"tight\")"
   ]
  },
  {
   "cell_type": "markdown",
   "metadata": {},
   "source": [
    "Display the file to see what it looks like"
   ]
  },
  {
   "cell_type": "code",
   "execution_count": 59,
   "metadata": {},
   "outputs": [],
   "source": [
    "from IPython.display import Image"
   ]
  },
  {
   "cell_type": "code",
   "execution_count": 60,
   "metadata": {},
   "outputs": [
    {
     "data": {
      "image/png": "[encoded data removed]",
      "text/plain": [
       "<IPython.core.display.Image object>"
      ]
     },
     "execution_count": 60,
     "metadata": {},
     "output_type": "execute_result"
    }
   ],
   "source": [
    "Image('images/sales.png')"
   ]
  }
 ],
 "metadata": {
  "anaconda-cloud": {},
  "kernelspec": {
   "display_name": "Python 3",
   "language": "python",
   "name": "python3"
  },
  "language_info": {
   "codemirror_mode": {
    "name": "ipython",
    "version": 3
   },
   "file_extension": ".py",
   "mimetype": "text/x-python",
   "name": "python",
   "nbconvert_exporter": "python",
   "pygments_lexer": "ipython3",
   "version": "3.8.5"
  }
 },
 "nbformat": 4,
 "nbformat_minor": 4
}
