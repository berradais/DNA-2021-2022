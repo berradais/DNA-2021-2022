{
 "cells": [
  {
   "cell_type": "code",
   "execution_count": null,
   "metadata": {},
   "outputs": [],
   "source": [
    "# data analysis and wrangling\n",
    "import pandas as pd\n",
    "import numpy as np\n",
    "# visualization\n",
    "\n",
    "import seaborn as sns\n",
    "\n",
    "import matplotlib.pyplot as plt\n",
    "import matplotlib.image as mpimg\n",
    "%matplotlib inline\n",
    "\n",
    "# machine learning\n",
    "from sklearn.tree import DecisionTreeClassifier\n",
    "from sklearn.metrics import accuracy_score, f1_score, confusion_matrix, classification_report\n",
    "\n",
    "import graphviz\n",
    "import sklearn.tree as tree\n",
    "\n",
    "import warnings\n",
    "warnings.filterwarnings('ignore')\n"
   ]
  },
  {
   "cell_type": "markdown",
   "metadata": {},
   "source": [
    "# Titanic Database Overview\n",
    "\n",
    "**First see the link:**\n",
    "- <h> https://www.kaggle.com/c/titanic/data </h>\n",
    "\n",
    "\n",
    "### Question and problem definition\n",
    "\n",
    "Competition sites like Kaggle define the problem to solve or questions to ask while providing the datasets for training your data science model and testing the model results against a test dataset. The question or problem definition for Titanic Survival competition is [described here at Kaggle](https://www.kaggle.com/c/titanic).\n",
    "\n",
    "> Knowing from a training set of samples listing passengers who survived or did not survive the Titanic disaster, can our model determine based on a given test dataset not containing the survival information, if these passengers in the test dataset survived or not.\n",
    "\n",
    "We may also want to develop some early understanding about the domain of our problem. This is described on the [Kaggle competition description page here](https://www.kaggle.com/c/titanic). Here are the highlights to note.\n",
    "\n",
    "- On April 15, 1912, during her maiden voyage, the Titanic sank after colliding with an iceberg, killing 1502 out of 2224 passengers and crew. Translated 32% survival rate.\n",
    "- One of the reasons that the shipwreck led to such loss of life was that there were not enough lifeboats for the passengers and crew.\n",
    "- **Hypothesis**: Although there was some element of luck involved in surviving the sinking, some groups of people were more likely to survive than others, such as women, children, and the upper-class.\n"
   ]
  },
  {
   "cell_type": "markdown",
   "metadata": {},
   "source": [
    "# I. Acquire data\n",
    "\n",
    "We start by acquiring the training and testing datasets into Pandas DataFrames. We also combine these datasets to run certain operations on both datasets together."
   ]
  },
  {
   "cell_type": "code",
   "execution_count": null,
   "metadata": {},
   "outputs": [],
   "source": [
    "train_df = pd.read_csv('../../dataset/titanic/train.csv')\n",
    "test_df = pd.read_csv('../../dataset/titanic/test.csv')"
   ]
  },
  {
   "cell_type": "code",
   "execution_count": null,
   "metadata": {},
   "outputs": [],
   "source": [
    "# print column names\n",
    "print(f\"Data features: \\n Shape {train_df.shape}\\n Columns {train_df.columns.values}\") "
   ]
  },
  {
   "cell_type": "code",
   "execution_count": null,
   "metadata": {},
   "outputs": [],
   "source": [
    "# See if there is missing data and the type of data\n",
    "train_df.info()"
   ]
  },
  {
   "cell_type": "markdown",
   "metadata": {},
   "source": [
    "# II. Exploratory Data Analysis"
   ]
  },
  {
   "cell_type": "code",
   "execution_count": null,
   "metadata": {},
   "outputs": [],
   "source": [
    "#visualize the histogram\n",
    "_ = train_df.hist(bins=50,figsize=(10,10))"
   ]
  },
  {
   "cell_type": "code",
   "execution_count": null,
   "metadata": {},
   "outputs": [],
   "source": [
    "#visualize the histogram for the test\n",
    "_ = test_df.hist(bins=50,figsize=(10,10))"
   ]
  },
  {
   "cell_type": "code",
   "execution_count": null,
   "metadata": {},
   "outputs": [],
   "source": [
    "#visualize the corelation matrix \n",
    "train_df.corr().style.background_gradient(cmap='Reds')\n",
    "\n",
    "#scatter plt of pandas\n",
    "_ = train_df.plot.scatter(x='Fare',y='Survived',s=100)"
   ]
  },
  {
   "cell_type": "code",
   "execution_count": null,
   "metadata": {},
   "outputs": [],
   "source": [
    "_ = test_df.hist(bins=100,figsize=(10,10))"
   ]
  },
  {
   "cell_type": "markdown",
   "metadata": {},
   "source": [
    "# III. Let's build our first model\n",
    "\n",
    "## One attribute model"
   ]
  },
  {
   "cell_type": "code",
   "execution_count": null,
   "metadata": {},
   "outputs": [],
   "source": [
    "X = train_df[['Fare']].copy()\n",
    "y = train_df['Survived'].copy() # or df.Survived.values\n",
    "y.count() #so we need no preprocessing"
   ]
  },
  {
   "cell_type": "code",
   "execution_count": null,
   "metadata": {},
   "outputs": [],
   "source": [
    "#First Step\n",
    "model1 = DecisionTreeClassifier()\n",
    "\n",
    "#Second step\n",
    "model1.fit(X,y)\n",
    "\n",
    "#Prediction\n",
    "y_pred = model1.predict(X)\n",
    "\n",
    "#Compute the accuracy of our model\n",
    "print(round(np.sum(y==y_pred)/len(y)*100,2),\"%\")"
   ]
  },
  {
   "cell_type": "code",
   "execution_count": null,
   "metadata": {},
   "outputs": [],
   "source": [
    "dot_data  = tree.export_graphviz(model1, out_file=None,  \n",
    "                class_names=['0','1'], # the target names.\n",
    "                feature_names=['Fare'], # the feature names.\n",
    "                filled=True, # Whether to fill in the boxes with colours.\n",
    "                rounded=True, # Whether to round the corners of the boxes.\n",
    "                special_characters=True)\n",
    "\n",
    "\n",
    "\n",
    "graph = graphviz.Source(dot_data, format=\"png\") \n",
    "\n",
    "graph.render(\"decision_tree_graphivz\")"
   ]
  },
  {
   "cell_type": "code",
   "execution_count": null,
   "metadata": {},
   "outputs": [],
   "source": [
    "plt.figure(figsize=(30,30))\n",
    "img = mpimg.imread('decision_tree_graphivz.png')\n",
    "imgplot = plt.imshow(img)\n",
    "plt.show()"
   ]
  },
  {
   "cell_type": "code",
   "execution_count": null,
   "metadata": {},
   "outputs": [],
   "source": [
    "confusion_matrix(y, y_pred, labels=[1, 0])"
   ]
  },
  {
   "cell_type": "code",
   "execution_count": null,
   "metadata": {},
   "outputs": [],
   "source": [
    "tn, fp, fn, tp = confusion_matrix(y, y_pred).ravel()\n",
    "(tn, fp, fn, tp)"
   ]
  },
  {
   "cell_type": "code",
   "execution_count": null,
   "metadata": {},
   "outputs": [],
   "source": [
    "# print the accuracy score \n",
    "print(round(accuracy_score(y,p)*100,2),\"%\")"
   ]
  },
  {
   "cell_type": "code",
   "execution_count": null,
   "metadata": {},
   "outputs": [],
   "source": [
    "# global report of metric \n",
    "target_names = ['Survives', 'Death']\n",
    "print(classification_report(y, y_pred, target_names=target_names))"
   ]
  },
  {
   "cell_type": "code",
   "execution_count": null,
   "metadata": {},
   "outputs": [],
   "source": [
    "sn.set(font_scale=1.4) #\n",
    "sn.heatmap(confusion_matrix(y, y_pred, labels=[1, 0]), annot=True, annot_kws={\"size\": 12},fmt='.2f', cmap=\"YlGnBu\", cbar=False)"
   ]
  },
  {
   "cell_type": "markdown",
   "metadata": {},
   "source": [
    "The previous example is not realistic as there is no outcome (only train is used)"
   ]
  },
  {
   "cell_type": "code",
   "execution_count": null,
   "metadata": {},
   "outputs": [],
   "source": [
    "train_set = train_df[0:700].copy()\n",
    "test_set = train_df[700:].copy()\n",
    "\n",
    "print(train_set.shape,test_set.shape)\n",
    "\n",
    "X_train = train_set[['Fare']]\n",
    "y_train = train_set['Survived']\n",
    "\n",
    "X_test = test_set[['Fare']]\n",
    "y_test = test_set['Survived'] \n",
    "\n",
    "#First Step\n",
    "dt_model = DecisionTreeClassifier()\n",
    "\n",
    "#Second step\n",
    "dt_model.fit(X_train,y_train)\n",
    "\n",
    "#Prediction\n",
    "pred_train = dt_model.predict(X_train)\n",
    "\n",
    "pred_test = dt_model.predict(X_test)\n",
    "\n",
    "#Prediction on the train\n",
    "1 - np.sum(pred_train==y_train)/len(y_train)\n",
    "\n",
    "#Prediction on the test\n",
    "1 - np.sum(pred_test==y_test)/len(y_test)\n",
    "\n",
    "print('Train Score (error) :',1-accuracy_score(y_train,pred_train),\"or: \", 1-dt_model.score(X_train,y_train))\n",
    "print('Test Score (error) :',1-accuracy_score(y_test,pred_test),\"or: \", 1-dt_model.score(X_test,y_test))\n",
    "\n",
    "#Visualization with graph : Step for installation\n",
    "#1) https://graphviz.gitlab.io/_pages/Download/Download_windows.html\n",
    "#2) conda install -c anaconda graphviz     or  conda install -c conda-forge python-graphviz \n",
    "\n",
    "\n",
    "# Different way to plot a tree\n",
    "\n",
    "# https://mljar.com/blog/visualize-decision-tree/\n",
    "\n",
    "#_ = tree.plot_tree(dt_model, \n",
    "#                class_names=['0','1'], # the target names.\n",
    "#                feature_names=['Fare'], # the feature names.\n",
    "#                filled=True, # Whether to fill in the boxes with colours.\n",
    "#                rounded=True # Whether to round the corners of the boxes.\n",
    "#               )\n",
    "\n",
    "dot_data  = tree.export_graphviz(dt_model, out_file=None,  \n",
    "                class_names=['0','1'], # the target names.\n",
    "                feature_names=['Fare'], # the feature names.\n",
    "                filled=True, # Whether to fill in the boxes with colours.\n",
    "                rounded=True, # Whether to round the corners of the boxes.\n",
    "                special_characters=True)\n",
    "\n",
    "\n",
    "\n",
    "graph = graphviz.Source(dot_data, format=\"png\") "
   ]
  },
  {
   "cell_type": "markdown",
   "metadata": {},
   "source": [
    "So, our model is very bad!!!"
   ]
  }
 ],
 "metadata": {
  "kernelspec": {
   "display_name": "Python 3",
   "language": "python",
   "name": "python3"
  },
  "language_info": {
   "codemirror_mode": {
    "name": "ipython",
    "version": 3
   },
   "file_extension": ".py",
   "mimetype": "text/x-python",
   "name": "python",
   "nbconvert_exporter": "python",
   "pygments_lexer": "ipython3",
   "version": "3.8.5"
  }
 },
 "nbformat": 4,
 "nbformat_minor": 4
}
