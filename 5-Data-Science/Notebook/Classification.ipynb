{
 "cells": [
  {
   "cell_type": "code",
   "execution_count": 1,
   "metadata": {},
   "outputs": [],
   "source": [
    "import numpy as np\n",
    "import matplotlib.pyplot as plt\n",
    "%matplotlib inline\n",
    "\n",
    "import sklearn.model_selection as skselect\n",
    "import sklearn.datasets as skdata\n",
    "import sklearn.metrics as metrics\n",
    "\n",
    "import warnings\n",
    "warnings.filterwarnings('ignore')\n",
    "\n",
    "np.random.seed(42)"
   ]
  },
  {
   "cell_type": "markdown",
   "metadata": {
    "slideshow": {
     "slide_type": "notes"
    }
   },
   "source": [
    "# Building classifiers for digits"
   ]
  },
  {
   "cell_type": "markdown",
   "metadata": {},
   "source": [
    "## Download the dataset (sklearn.datasets)"
   ]
  },
  {
   "cell_type": "markdown",
   "metadata": {},
   "source": [
    "openml.org is a public repository for machine learning data and experiments, that allows everybody to upload open datasets.\n",
    "\n",
    "To load a dataset, the package sklearn.datasets is used.\n",
    "\n",
    "The sklearn.datasets package is able to download datasets from openml.org using the function sklearn.datasets.fetch_openml. https://docs.w3cub.com/scikit_learn/modules/generated/sklearn.datasets.fetch_openml/\n",
    "\n",
    "MNIST dataset on openml: https://www.openml.org/d/554\n",
    "\n",
    "scikit learn also provides a list of small standard datasets (7 datasets) for the purpose of testing machine learning algorithms. Acquiring these dataset do not require any download from some external website. Each dataset can be loaded using a specific function. These datasets are too small to be representative of real world machine learning tasks, but are useful to quickly illustrate the behavior of the implemented ML algorithms.\n",
    "\n",
    "The mnist dataset is loaded using the function load_digits()\n",
    "\n",
    "<img src=https://www.oreilly.com/content/wp-content/uploads/sites/2/2019/06/digits-d7a3f41b.png>"
   ]
  },
  {
   "cell_type": "markdown",
   "metadata": {},
   "source": [
    "### 1) Load the MNIST dataset"
   ]
  },
  {
   "cell_type": "markdown",
   "metadata": {},
   "source": [
    "The function loads data as a bunch object (a dictionnary-like object which exposes its keys as attributes). the dataset contains a total of 1797 samples, where each sample is a 8x8 image of a handwritten digit. Each image is labeled with the digit it represents."
   ]
  },
  {
   "cell_type": "code",
   "execution_count": 2,
   "metadata": {},
   "outputs": [
    {
     "data": {
      "text/plain": [
       "dict_keys(['data', 'target', 'target_names', 'images', 'DESCR'])"
      ]
     },
     "execution_count": 2,
     "metadata": {},
     "output_type": "execute_result"
    }
   ],
   "source": [
    "data=skdata.load_digits()\n",
    "data.keys()"
   ]
  },
  {
   "cell_type": "code",
   "execution_count": 3,
   "metadata": {},
   "outputs": [
    {
     "data": {
      "text/plain": [
       "((1797, 8, 8), (1797, 64))"
      ]
     },
     "execution_count": 3,
     "metadata": {},
     "output_type": "execute_result"
    }
   ],
   "source": [
    "data.images.shape, data.data.shape"
   ]
  },
  {
   "cell_type": "code",
   "execution_count": 14,
   "metadata": {},
   "outputs": [
    {
     "data": {
      "text/plain": [
       "1797"
      ]
     },
     "execution_count": 14,
     "metadata": {},
     "output_type": "execute_result"
    }
   ],
   "source": [
    "len(data['target'])"
   ]
  },
  {
   "cell_type": "markdown",
   "metadata": {},
   "source": [
    "### 2) Visualize sample images using pyplot"
   ]
  },
  {
   "cell_type": "code",
   "execution_count": 11,
   "metadata": {},
   "outputs": [
    {
     "data": {
      "image/png": "[encoded data removed]",
      "text/plain": [
       "<Figure size 288x288 with 1 Axes>"
      ]
     },
     "metadata": {
      "needs_background": "light"
     },
     "output_type": "display_data"
    }
   ],
   "source": [
    "plt.matshow(data.images[2]) \n",
    "plt.gray()\n",
    "plt.show()"
   ]
  },
  {
   "cell_type": "markdown",
   "metadata": {},
   "source": [
    "For a classification problem, each one of the digits is considered as a class. The goal of classification is to correclty predict the class of any given image (This is a multiclass classification problem). "
   ]
  },
  {
   "cell_type": "markdown",
   "metadata": {},
   "source": [
    "### 3) Before going any further, Let's check the distribution of the classes in the dataset"
   ]
  },
  {
   "cell_type": "code",
   "execution_count": 37,
   "metadata": {},
   "outputs": [
    {
     "data": {
      "text/plain": [
       "Text(0, 0.5, 'Frequency')"
      ]
     },
     "execution_count": 37,
     "metadata": {},
     "output_type": "execute_result"
    },
    {
     "data": {
      "image/png": "[encoded data removed]",
      "text/plain": [
       "<Figure size 432x288 with 1 Axes>"
      ]
     },
     "metadata": {
      "needs_background": "light"
     },
     "output_type": "display_data"
    }
   ],
   "source": [
    "label, counts = np.unique(data.target, return_counts=True)\n",
    "plt.bar(label, counts)\n",
    "plt.title('Class Frequency')\n",
    "plt.xlabel('Class')\n",
    "plt.xticks(range(0,10,1))\n",
    "plt.ylabel('Frequency')"
   ]
  },
  {
   "cell_type": "code",
   "execution_count": 38,
   "metadata": {},
   "outputs": [
    {
     "name": "stdout",
     "output_type": "stream",
     "text": [
      "class 0 : 9.91 %\n",
      "class 1 : 10.13 %\n",
      "class 2 : 9.85 %\n",
      "class 3 : 10.18 %\n",
      "class 4 : 10.07 %\n",
      "class 5 : 10.13 %\n",
      "class 6 : 10.07 %\n",
      "class 7 : 9.96 %\n",
      "class 8 : 9.68 %\n",
      "class 9 : 10.02 %\n"
     ]
    }
   ],
   "source": [
    "#count items for each class\n",
    "for l, count in zip(label,counts):\n",
    "    print ('class', l, ': %0.02f' %(count/len(data.target)*100), \"%\")"
   ]
  },
  {
   "cell_type": "markdown",
   "metadata": {},
   "source": [
    "## Binary classification"
   ]
  },
  {
   "cell_type": "markdown",
   "metadata": {},
   "source": [
    "In this part, we will try to build a classifier that correctly detect images of class '5'. Using scikitLearn, we evaluation the performance of the Decision Tree classifier: a tree-based model that can be used for binary as well as for multiclass classification"
   ]
  },
  {
   "cell_type": "markdown",
   "metadata": {},
   "source": [
    "###  I. Create input and target vectors for the classifier and check class distribution. \n",
    "(The target vector will contain 0 and 1 depending on whether the target class is 5 or no)"
   ]
  },
  {
   "cell_type": "code",
   "execution_count": 16,
   "metadata": {},
   "outputs": [],
   "source": [
    "X,y = data.data,data.target\n",
    "y_5=(y==5)"
   ]
  },
  {
   "cell_type": "code",
   "execution_count": 17,
   "metadata": {},
   "outputs": [
    {
     "data": {
      "text/plain": [
       "Text(0, 0.5, 'Frequency')"
      ]
     },
     "execution_count": 17,
     "metadata": {},
     "output_type": "execute_result"
    },
    {
     "data": {
      "image/png": "[encoded data removed]",
      "text/plain": [
       "<Figure size 432x288 with 1 Axes>"
      ]
     },
     "metadata": {
      "needs_background": "light"
     },
     "output_type": "display_data"
    }
   ],
   "source": [
    "l, c = np.unique(y_5, return_counts=True)\n",
    "plt.bar(l, c)\n",
    "plt.title('Class Frequency')\n",
    "plt.xlabel('Class')\n",
    "plt.xticks(range(0,2,1))\n",
    "plt.ylabel('Frequency')"
   ]
  },
  {
   "cell_type": "markdown",
   "metadata": {},
   "source": [
    "### II. Evaluation using holdout method"
   ]
  },
  {
   "cell_type": "markdown",
   "metadata": {},
   "source": [
    "   ### 1-  Split data into 70% for train and 30% for test. We use the built-in function (train_test_split) of sklearn.model_selection"
   ]
  },
  {
   "cell_type": "code",
   "execution_count": 18,
   "metadata": {},
   "outputs": [],
   "source": [
    "X_train,X_test,y_train_5,y_test_5 = skselect.train_test_split(X,y_5,test_size=0.3)"
   ]
  },
  {
   "cell_type": "markdown",
   "metadata": {},
   "source": [
    "### 2- Train classifier and make predictions"
   ]
  },
  {
   "cell_type": "code",
   "execution_count": 50,
   "metadata": {},
   "outputs": [
    {
     "data": {
      "text/plain": [
       "0.06851851851851852"
      ]
     },
     "execution_count": 50,
     "metadata": {},
     "output_type": "execute_result"
    }
   ],
   "source": [
    "from sklearn.tree import DecisionTreeClassifier\n",
    "from sklearn.svm import SVC\n",
    "\n",
    "clf = SVC( gamma='auto', probability=True)\n",
    "\n",
    "clf.fit(X_train, y_train_5)\n",
    "SCV_pred = clf.predict_proba(X_test)\n",
    "(np.round(SCV_pred[:,1],2)>=0.5).astype(int).sum()/len(X_test)"
   ]
  },
  {
   "cell_type": "markdown",
   "metadata": {},
   "source": [
    "### 3-  Evaluate the results (using different metrics)"
   ]
  },
  {
   "cell_type": "code",
   "execution_count": 20,
   "metadata": {},
   "outputs": [
    {
     "name": "stdout",
     "output_type": "stream",
     "text": [
      "Accuracy = 0.97\n",
      "F1 = 0.86\n",
      "Precision = 0.89\n",
      "Recall = 0.83\n",
      "log-loss = 1.15\n",
      "ROC-AUC = 0.91\n"
     ]
    }
   ],
   "source": [
    "acc = metrics.accuracy_score(y_test_5, DT_pred)\n",
    "print(\"Accuracy = %.2f\" %(acc))\n",
    "f1=metrics.f1_score(y_test_5,DT_pred)\n",
    "print(\"F1 = %.2f\" %(f1))\n",
    "p=metrics.precision_score(y_test_5,DT_pred)\n",
    "print(\"Precision = %.2f\" %(p))\n",
    "r=metrics.recall_score(y_test_5,DT_pred)\n",
    "print(\"Recall = %.2f\" %(r))\n",
    "loss=metrics.log_loss(y_test_5,DT_pred)\n",
    "print(\"log-loss = %.2f\" %(loss))\n",
    "auc=metrics.roc_auc_score(y_test_5,DT_pred)\n",
    "print(\"ROC-AUC = %.2f\" %(auc))"
   ]
  },
  {
   "cell_type": "code",
   "execution_count": null,
   "metadata": {},
   "outputs": [],
   "source": []
  },
  {
   "cell_type": "markdown",
   "metadata": {},
   "source": [
    "- Print/plot confusion matrix"
   ]
  },
  {
   "cell_type": "code",
   "execution_count": 21,
   "metadata": {},
   "outputs": [
    {
     "data": {
      "text/plain": [
       "array([[467,   7],\n",
       "       [ 11,  55]], dtype=int64)"
      ]
     },
     "execution_count": 21,
     "metadata": {},
     "output_type": "execute_result"
    }
   ],
   "source": [
    "metrics.confusion_matrix(y_test_5,DT_pred)"
   ]
  },
  {
   "cell_type": "code",
   "execution_count": 24,
   "metadata": {},
   "outputs": [
    {
     "ename": "ModuleNotFoundError",
     "evalue": "No module named 'scikitplot'",
     "output_type": "error",
     "traceback": [
      "\u001b[1;31m---------------------------------------------------------------------------\u001b[0m",
      "\u001b[1;31mModuleNotFoundError\u001b[0m                       Traceback (most recent call last)",
      "\u001b[1;32m<ipython-input-24-03f3b6472cb8>\u001b[0m in \u001b[0;36m<module>\u001b[1;34m\u001b[0m\n\u001b[1;32m----> 1\u001b[1;33m \u001b[1;32mimport\u001b[0m \u001b[0mscikitplot\u001b[0m \u001b[1;32mas\u001b[0m \u001b[0mskplt\u001b[0m\u001b[1;33m\u001b[0m\u001b[1;33m\u001b[0m\u001b[0m\n\u001b[0m\u001b[0;32m      2\u001b[0m \u001b[0mskplt\u001b[0m\u001b[1;33m.\u001b[0m\u001b[0mmetrics\u001b[0m\u001b[1;33m.\u001b[0m\u001b[0mplot_confusion_matrix\u001b[0m\u001b[1;33m(\u001b[0m\u001b[0my_test_5\u001b[0m\u001b[1;33m,\u001b[0m \u001b[0mDT_pred\u001b[0m\u001b[1;33m)\u001b[0m\u001b[1;33m\u001b[0m\u001b[1;33m\u001b[0m\u001b[0m\n",
      "\u001b[1;31mModuleNotFoundError\u001b[0m: No module named 'scikitplot'"
     ]
    }
   ],
   "source": [
    "import scikitplot as skplt\n",
    "skplt.metrics.plot_confusion_matrix(y_test_5, DT_pred)"
   ]
  },
  {
   "cell_type": "markdown",
   "metadata": {},
   "source": [
    "- plot ROC curve"
   ]
  },
  {
   "cell_type": "code",
   "execution_count": 23,
   "metadata": {},
   "outputs": [
    {
     "data": {
      "image/png": "[encoded data removed]",
      "text/plain": [
       "<Figure size 432x288 with 1 Axes>"
      ]
     },
     "metadata": {
      "needs_background": "light"
     },
     "output_type": "display_data"
    }
   ],
   "source": [
    "# Compute ROC curve and ROC area for class 1\n",
    "DTfpr, DTtpr, _ = metrics.roc_curve(y_test_5, DT_pred)\n",
    "DTroc_auc = metrics.auc(DTfpr, DTtpr)\n",
    "lw = 2\n",
    "plt.plot(DTfpr, DTtpr, color='darkgreen',\n",
    "         lw=lw, label='Decision Tree (area = %0.2f)' % DTroc_auc)\n",
    "plt.plot([0, 1], [0, 1], color='navy', lw=lw, linestyle='--')\n",
    "plt.xlim([0.0, 1.0])\n",
    "plt.ylim([0.0, 1.05])\n",
    "plt.xlabel('False Positive Rate')\n",
    "plt.ylabel('True Positive Rate')\n",
    "plt.title('Receiver operating characteristic example')\n",
    "plt.legend(loc=\"lower right\")\n",
    "plt.show()"
   ]
  },
  {
   "cell_type": "markdown",
   "metadata": {},
   "source": [
    "- comparison with a dummy classifier"
   ]
  },
  {
   "cell_type": "code",
   "execution_count": 38,
   "metadata": {
    "scrolled": true
   },
   "outputs": [
    {
     "name": "stdout",
     "output_type": "stream",
     "text": [
      "Accuracy = 0.82\n",
      "F1 = 0.12\n",
      "Precision = 0.12\n",
      "Recall = 0.13\n",
      "log-loss = 6.27\n",
      "ROC-AUC = 0.51\n"
     ]
    },
    {
     "data": {
      "image/png": "[encoded data removed]",
      "text/plain": [
       "<Figure size 432x288 with 2 Axes>"
      ]
     },
     "metadata": {
      "needs_background": "light"
     },
     "output_type": "display_data"
    }
   ],
   "source": [
    "from sklearn.dummy import DummyClassifier\n",
    "dummy_clf = DummyClassifier()\n",
    "dummy_clf.fit(X_train, y_train_5)\n",
    "dummy_pred=dummy_clf.predict(X_test)\n",
    "skplt.metrics.plot_confusion_matrix(y_test_5, dummy_pred)\n",
    "\n",
    "acc = metrics.accuracy_score(y_test_5, dummy_pred)\n",
    "print(\"Accuracy = %.2f\" %(acc))\n",
    "f1=metrics.f1_score(y_test_5,dummy_pred)\n",
    "print(\"F1 = %.2f\" %(f1))\n",
    "p=metrics.precision_score(y_test_5,dummy_pred)\n",
    "print(\"Precision = %.2f\" %(p))\n",
    "r=metrics.recall_score(y_test_5,dummy_pred)\n",
    "print(\"Recall = %.2f\" %(r))\n",
    "loss=metrics.log_loss(y_test_5,dummy_pred)\n",
    "print(\"log-loss = %.2f\" %(loss))\n",
    "auc=metrics.roc_auc_score(y_test_5,dummy_pred)\n",
    "print(\"ROC-AUC = %.2f\" %(auc))\n"
   ]
  },
  {
   "cell_type": "markdown",
   "metadata": {},
   "source": [
    "## Multiclass classification"
   ]
  },
  {
   "cell_type": "code",
   "execution_count": 44,
   "metadata": {},
   "outputs": [],
   "source": [
    "DT = DecisionTreeClassifier()"
   ]
  },
  {
   "cell_type": "markdown",
   "metadata": {},
   "source": [
    "### Evaluation using cross validation"
   ]
  },
  {
   "cell_type": "markdown",
   "metadata": {},
   "source": [
    "### 1. get cross validation scores using cross_val_score()"
   ]
  },
  {
   "cell_type": "code",
   "execution_count": 53,
   "metadata": {},
   "outputs": [],
   "source": [
    "from sklearn.model_selection import cross_val_score\n",
    "\n",
    "cv = cross_val_score(DT, X, y, cv=10, scoring='f1_macro')"
   ]
  },
  {
   "cell_type": "code",
   "execution_count": 54,
   "metadata": {},
   "outputs": [
    {
     "name": "stdout",
     "output_type": "stream",
     "text": [
      "Macro-f1 for each iteration: [0.75905059 0.85906791 0.81797969 0.75978356 0.77858549 0.88912422\n",
      " 0.9095713  0.79607293 0.84274173 0.80842768]\n",
      "Macro-f1 (statistics): 0.82 (+/- 0.10)\n"
     ]
    }
   ],
   "source": [
    "print(f\"Macro-f1 for each iteration: {cv}\")\n",
    "mean_macro_f1 = cv.mean()\n",
    "std_macro_f1 = cv.std() * 2\n",
    "print(f\"Macro-f1 (statistics): {mean_macro_f1:.2f} (+/- {std_macro_f1:.2f})\")"
   ]
  },
  {
   "cell_type": "markdown",
   "metadata": {},
   "source": [
    "### 1. get cross validation predictions using cross_val_predict()"
   ]
  },
  {
   "cell_type": "code",
   "execution_count": 71,
   "metadata": {},
   "outputs": [
    {
     "name": "stdout",
     "output_type": "stream",
     "text": [
      "Accuracy = 0.83\n",
      "F1 = 0.83\n",
      "Precision = 0.83\n",
      "Recall = 0.83\n"
     ]
    }
   ],
   "source": [
    "from sklearn.model_selection import cross_val_predict\n",
    "pred = cross_val_predict(DT, X, y, cv=10)\n",
    "\n",
    "acc = metrics.accuracy_score(y, pred)\n",
    "print(\"Accuracy = %.2f\" %(acc))\n",
    "f1=metrics.f1_score(y,pred,average=\"macro\")\n",
    "print(\"F1 = %.2f\" %(f1))\n",
    "p=metrics.precision_score(y,pred,average=\"macro\")\n",
    "print(\"Precision = %.2f\" %(p))\n",
    "r=metrics.recall_score(y,pred,average=\"macro\")\n",
    "print(\"Recall = %.2f\" %(r))\n"
   ]
  },
  {
   "cell_type": "code",
   "execution_count": 74,
   "metadata": {},
   "outputs": [
    {
     "data": {
      "text/plain": [
       "<matplotlib.axes._subplots.AxesSubplot at 0x26568cfd9c8>"
      ]
     },
     "execution_count": 74,
     "metadata": {},
     "output_type": "execute_result"
    },
    {
     "data": {
      "image/png": "[encoded data removed]",
      "text/plain": [
       "<Figure size 432x288 with 2 Axes>"
      ]
     },
     "metadata": {
      "needs_background": "light"
     },
     "output_type": "display_data"
    }
   ],
   "source": [
    "skplt.metrics.plot_confusion_matrix(y, pred)"
   ]
  },
  {
   "cell_type": "code",
   "execution_count": null,
   "metadata": {},
   "outputs": [],
   "source": []
  }
 ],
 "metadata": {
  "kernelspec": {
   "display_name": "Python 3",
   "language": "python",
   "name": "python3"
  },
  "language_info": {
   "codemirror_mode": {
    "name": "ipython",
    "version": 3
   },
   "file_extension": ".py",
   "mimetype": "text/x-python",
   "name": "python",
   "nbconvert_exporter": "python",
   "pygments_lexer": "ipython3",
   "version": "3.8.5"
  }
 },
 "nbformat": 4,
 "nbformat_minor": 4
}
