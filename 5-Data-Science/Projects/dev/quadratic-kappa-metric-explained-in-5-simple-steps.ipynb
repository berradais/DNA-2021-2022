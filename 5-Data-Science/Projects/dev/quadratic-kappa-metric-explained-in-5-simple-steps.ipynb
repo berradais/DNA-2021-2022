{
 "cells": [
  {
   "cell_type": "markdown",
   "metadata": {
    "_uuid": "37c301b30f0ee1af3daf82843ce05780cbc677ae"
   },
   "source": [
    "**Edit:** Quadratic Kappa Metric is the same as cohen kappa metric in Sci-kit learn @ sklearn.metrics.cohen_kappa_score when weights are set to 'Quadratic'. Thanks to Johannes for figuring that out. "
   ]
  },
  {
   "cell_type": "markdown",
   "metadata": {
    "_uuid": "0b5047f5a15cd776b781164c574734e01c9a051d"
   },
   "source": [
    "## What is Quadratic Weighted Kappa?  "
   ]
  },
  {
   "cell_type": "markdown",
   "metadata": {
    "_uuid": "81940bd3a8c9af891028a428468880059f3cf4cc"
   },
   "source": [
    "Submissions are scored based on the quadratic weighted kappa, which measures the agreement between two ratings. This metric typically varies from 0 (random agreement between raters) to 1 (complete agreement between raters). In the event that there is less agreement between the raters than expected by chance, the metric may go below 0. The quadratic weighted kappa is calculated between the scores which are expected/known and the predicted scores. <br>\n",
    "\n",
    "\n",
    "Results have 5 possible ratings, 0,1,2,3,4.  The quadratic weighted kappa is calculated as follows. First, an N x N histogram matrix O is constructed, such that Oi,j corresponds to the number of adoption records that have a rating of i (actual) and received a predicted rating j. An N-by-N matrix of weights, w, is calculated based on the difference between actual and predicted rating scores.\n",
    "\n",
    "An N-by-N histogram matrix of expected ratings, E, is calculated, assuming that there is no correlation between rating scores.  This is calculated as the outer product between the actual rating's histogram vector of ratings and the predicted rating's histogram vector of ratings, normalized such that E and O have the same sum.\n",
    "\n",
    "From these three matrices, the quadratic weighted kappa is calculated."
   ]
  },
  {
   "cell_type": "markdown",
   "metadata": {
    "_uuid": "7abf771b91a6be32ff212d4c3e6f9a2bcc6b3ac4"
   },
   "source": [
    "### Breaking down the formula into parts"
   ]
  },
  {
   "cell_type": "markdown",
   "metadata": {
    "_uuid": "971e777b1d954f0ad215dd5c8e0c511477bac6e1"
   },
   "source": [
    "#### 5 step breakdown for Weighted Kappa Metric"
   ]
  },
  {
   "cell_type": "markdown",
   "metadata": {
    "_uuid": "bf8b89f45237cda9d47a1f7ff764a82567e9f1f5"
   },
   "source": [
    "- First, create a multi class confusion matrix `O` between predicted and actual ratings. \n",
    "- Second, construct a weight matrix `w` which calculates the weight between the actual and predicted ratings. \n",
    "- Third, calculate `value_counts()` for each rating in preds and actuals. \n",
    "- Fourth, calculate `E`, which is the outer product of two value_count vectors \n",
    "- Fifth, normalise the `E` and `O` matrix\n",
    "- Caclulate, weighted kappa as per formula"
   ]
  },
  {
   "cell_type": "markdown",
   "metadata": {
    "_uuid": "a683efcad1c5a58668a4eab20f149b46442ad2e4",
    "heading_collapsed": true
   },
   "source": [
    "#### Each Step Explained"
   ]
  },
  {
   "cell_type": "markdown",
   "metadata": {
    "_uuid": "7880113f8745ee347cb552991a0f4079b7d0de6f",
    "hidden": true
   },
   "source": [
    "**Step-1:** Under Step-1, we shall be calculating a `confusion_matrix` between the Predicted and Actual values. <a href=\"https://www.dataschool.io/simple-guide-to-confusion-matrix-terminology/\">Here</a> is a great resource to know more about `confusion_matrix`. <br>\n",
    "**Step-2:** Under Step-2, under step-2 each element is weighted. Predictions that are further away from actuals are marked harshly than predictions that are closer to actuals. We will have a less score if our prediction is 5 and actual is 3 as compared to a prediction of 4 in the same case. <br>\n",
    "**Step-3:** We create two vectors, one for preds and one for actuals, which tells us how many values of each rating exist in both vectors. <br>\n",
    "**Step-4:**`E` is the Expected Matrix which is the outer product of the two vectors calculated in step-3.<br>\n",
    "**Step-5:** Normalise both matrices to have same sum. Since, it is easiest to get sum to be '1', we will simply divide each matrix by it's sum to normalise the data. <br>\n",
    "**Step-6:** Calculated numerator and denominator of Weighted Kappa and return the Weighted Kappa metric as `1-(num/den)`"
   ]
  },
  {
   "cell_type": "markdown",
   "metadata": {
    "_uuid": "fbe3bf142ac922a48bed25accf76d4bde79a8b9f",
    "heading_collapsed": true
   },
   "source": [
    "### Interpreting the Quadratic Weighted Kappa Metric "
   ]
  },
  {
   "cell_type": "markdown",
   "metadata": {
    "_uuid": "3d2e7d95295ecdf181c6e12bcc9c4cdd7641eaaa",
    "hidden": true
   },
   "source": [
    "A weighted Kappa is a metric which is used to calculate the amount of similarity between predictions and actuals. A perfect score of `1.0` is granted when both the predictions and actuals are the same. <br>\n",
    "Whereas, the least possible score is `-1` which is given when the predictions are furthest away from actuals. In our case, consider all actuals were 0's and all predictions were 4's. This would lead to a `QWKP` score of `-1`.<br>\n",
    "The aim is to get as close to 1 as possible. Generally a score of 0.6+ is considered to be a really good score. "
   ]
  },
  {
   "cell_type": "markdown",
   "metadata": {
    "_uuid": "c944b46efc3310b77b079bbd12d2dedc5dbff5b1",
    "heading_collapsed": true
   },
   "source": [
    "## Create our own Quadratic Weighted Kappa Metric"
   ]
  },
  {
   "cell_type": "code",
   "execution_count": 1,
   "metadata": {
    "_uuid": "448b9bc2d09a80de4ea1960c3ae2c5d640bf7d71",
    "hidden": true
   },
   "outputs": [],
   "source": [
    "%load_ext autoreload\n",
    "%autoreload 2"
   ]
  },
  {
   "cell_type": "code",
   "execution_count": 2,
   "metadata": {
    "_uuid": "7cac1a568ee1035156f723ae33bed1c7031595c8",
    "hidden": true
   },
   "outputs": [],
   "source": [
    "import numpy as np\n",
    "import pandas as pd\n",
    "from sklearn.metrics import confusion_matrix"
   ]
  },
  {
   "cell_type": "markdown",
   "metadata": {
    "_uuid": "fccbeb55d5b45ab5a40fcdc7986e47118c68a98e",
    "hidden": true
   },
   "source": [
    "For the purpose of explaination, we will assume are actual and preds vectors to be the following. "
   ]
  },
  {
   "cell_type": "code",
   "execution_count": 3,
   "metadata": {
    "_uuid": "b3d9aa9ada12887791fc222060763878b765fd12",
    "hidden": true
   },
   "outputs": [],
   "source": [
    "actuals = np.array([4, 4, 3, 4, 4, 4, 1, 1, 2, 1])\n",
    "preds   = np.array([0, 2, 1, 0, 0, 0, 1, 1, 2, 1])"
   ]
  },
  {
   "cell_type": "code",
   "execution_count": null,
   "metadata": {},
   "outputs": [],
   "source": []
  },
  {
   "cell_type": "code",
   "execution_count": 4,
   "metadata": {
    "_uuid": "5079d0612718c8f9d2c4f5053228039bd2fb6d48",
    "hidden": true
   },
   "outputs": [
    {
     "data": {
      "text/plain": [
       "(10,)"
      ]
     },
     "execution_count": 4,
     "metadata": {},
     "output_type": "execute_result"
    }
   ],
   "source": [
    "actuals.shape"
   ]
  },
  {
   "cell_type": "markdown",
   "metadata": {
    "_uuid": "10027cf74e6fea49e95670408e2564dbbfdbee0a",
    "heading_collapsed": true,
    "hidden": true
   },
   "source": [
    "### Step-1: Confusion Matrix"
   ]
  },
  {
   "cell_type": "code",
   "execution_count": 5,
   "metadata": {
    "_uuid": "c3b1aba627aa9bd2002a360812b3be62c6eab97f",
    "hidden": true
   },
   "outputs": [
    {
     "data": {
      "text/plain": [
       "array([[0, 0, 0, 0, 0],\n",
       "       [0, 3, 0, 0, 0],\n",
       "       [0, 0, 1, 0, 0],\n",
       "       [0, 1, 0, 0, 0],\n",
       "       [4, 0, 1, 0, 0]], dtype=int64)"
      ]
     },
     "execution_count": 5,
     "metadata": {},
     "output_type": "execute_result"
    }
   ],
   "source": [
    "O = confusion_matrix(actuals, preds); O"
   ]
  },
  {
   "cell_type": "code",
   "execution_count": 6,
   "metadata": {
    "_uuid": "7768b9e20e45882ccb1f0adf96c091c11eaf94c9",
    "hidden": true
   },
   "outputs": [
    {
     "data": {
      "text/plain": [
       "array([[0, 0, 0, 0, 0],\n",
       "       [0, 3, 0, 0, 0],\n",
       "       [0, 0, 1, 0, 0],\n",
       "       [0, 1, 0, 0, 0],\n",
       "       [4, 0, 1, 0, 0]], dtype=int64)"
      ]
     },
     "execution_count": 6,
     "metadata": {},
     "output_type": "execute_result"
    }
   ],
   "source": [
    "confusion_matrix(actuals, preds)"
   ]
  },
  {
   "cell_type": "markdown",
   "metadata": {
    "_uuid": "d34ef5f240e9616f9f31b191de198675a024483b",
    "heading_collapsed": true,
    "hidden": true
   },
   "source": [
    "### Step-2: Weighted Matrix"
   ]
  },
  {
   "cell_type": "markdown",
   "metadata": {
    "_uuid": "545125e866a347a9da851ef0e5776452e1347d3e",
    "hidden": true
   },
   "source": [
    "An N-by-N matrix of weights, w, is calculated based on the difference between actual and predicted rating scores."
   ]
  },
  {
   "cell_type": "code",
   "execution_count": 7,
   "metadata": {
    "_uuid": "a8f5f67d8b71b88cfd56dc8b2be904a2aa5193a6",
    "hidden": true
   },
   "outputs": [
    {
     "data": {
      "text/plain": [
       "array([[0., 0., 0., 0., 0.],\n",
       "       [0., 0., 0., 0., 0.],\n",
       "       [0., 0., 0., 0., 0.],\n",
       "       [0., 0., 0., 0., 0.],\n",
       "       [0., 0., 0., 0., 0.]])"
      ]
     },
     "execution_count": 7,
     "metadata": {},
     "output_type": "execute_result"
    }
   ],
   "source": [
    "w = np.zeros((5,5)); w"
   ]
  },
  {
   "cell_type": "code",
   "execution_count": 8,
   "metadata": {
    "_uuid": "83482f3a469878ff16683f066a4a9ad70498c3f0",
    "hidden": true
   },
   "outputs": [],
   "source": [
    "for i in range(len(w)):\n",
    "    for j in range(len(w)):\n",
    "        w[i][j] = float(((i-j)**2)/16) #as per formula, for this competition, N=5"
   ]
  },
  {
   "cell_type": "code",
   "execution_count": 9,
   "metadata": {
    "_uuid": "83c46fee9c4941f0d0f7775a301261c48349e25b",
    "hidden": true
   },
   "outputs": [
    {
     "data": {
      "text/plain": [
       "array([[0.    , 0.0625, 0.25  , 0.5625, 1.    ],\n",
       "       [0.0625, 0.    , 0.0625, 0.25  , 0.5625],\n",
       "       [0.25  , 0.0625, 0.    , 0.0625, 0.25  ],\n",
       "       [0.5625, 0.25  , 0.0625, 0.    , 0.0625],\n",
       "       [1.    , 0.5625, 0.25  , 0.0625, 0.    ]])"
      ]
     },
     "execution_count": 9,
     "metadata": {},
     "output_type": "execute_result"
    }
   ],
   "source": [
    "w"
   ]
  },
  {
   "cell_type": "markdown",
   "metadata": {
    "_uuid": "a072e0e8a4c72cb3c235ced789ab80d306b2aa21",
    "hidden": true
   },
   "source": [
    "Note that all values lying on the diagonal are penalised the least with a penalty of 0, whereas predictions and actuals furthest away from each other are penalised the most."
   ]
  },
  {
   "cell_type": "markdown",
   "metadata": {
    "_uuid": "359f0d19b763a278329aabbd0e7fb8151eb0e52c",
    "heading_collapsed": true,
    "hidden": true
   },
   "source": [
    "### Step-3: Histogram"
   ]
  },
  {
   "cell_type": "code",
   "execution_count": 10,
   "metadata": {
    "_uuid": "7b7bb7b4121c268c38a17768f3b65828fd2ef4f4",
    "code_folding": [],
    "hidden": true
   },
   "outputs": [],
   "source": [
    "N=5\n",
    "act_hist=np.zeros([N])\n",
    "for item in actuals: \n",
    "    act_hist[item]+=1\n",
    "    \n",
    "pred_hist=np.zeros([N])\n",
    "for item in preds: \n",
    "    pred_hist[item]+=1"
   ]
  },
  {
   "cell_type": "code",
   "execution_count": 11,
   "metadata": {
    "_uuid": "c8881fdab187f7d471046de59800764fbac79a15",
    "hidden": true
   },
   "outputs": [
    {
     "name": "stdout",
     "output_type": "stream",
     "text": [
      "Actuals value counts:[0. 3. 1. 1. 5.], Prediction value counts:[4. 4. 2. 0. 0.]\n"
     ]
    }
   ],
   "source": [
    "print(f'Actuals value counts:{act_hist}, Prediction value counts:{pred_hist}')"
   ]
  },
  {
   "cell_type": "markdown",
   "metadata": {
    "_uuid": "405056fbbe6ac3f0f95dc457e5295191a6c7b859",
    "hidden": true
   },
   "source": [
    "Therefore, we have 3 values with adoption rating 1, 1 value with adoption rating 2, 1 value with adoption rating 1 an 5 values with adoption rating of 5 in the actuals. "
   ]
  },
  {
   "cell_type": "markdown",
   "metadata": {
    "_uuid": "c18e16115a6bbced012cd00edcb8923a6b1d4d4f",
    "heading_collapsed": true,
    "hidden": true
   },
   "source": [
    "### Step-4: Expected Value (Outer product of histograms) "
   ]
  },
  {
   "cell_type": "markdown",
   "metadata": {
    "_uuid": "645df30ea535cc71ff6b73ed15cc7ea943fbe763",
    "hidden": true
   },
   "source": [
    "Expected matrix is calculated as the outer product between the actual rating's histogram vector of ratings and the predicted rating's histogram vector of ratings"
   ]
  },
  {
   "cell_type": "code",
   "execution_count": 12,
   "metadata": {
    "_uuid": "e670e97a025bc8c4d85e265f8d52e2a97e3469fe",
    "hidden": true
   },
   "outputs": [
    {
     "data": {
      "text/plain": [
       "array([[ 0.,  0.,  0.,  0.,  0.],\n",
       "       [12., 12.,  6.,  0.,  0.],\n",
       "       [ 4.,  4.,  2.,  0.,  0.],\n",
       "       [ 4.,  4.,  2.,  0.,  0.],\n",
       "       [20., 20., 10.,  0.,  0.]])"
      ]
     },
     "execution_count": 12,
     "metadata": {},
     "output_type": "execute_result"
    }
   ],
   "source": [
    "E = np.outer(act_hist, pred_hist); E"
   ]
  },
  {
   "cell_type": "markdown",
   "metadata": {
    "_uuid": "b9508d780e9bb61ec43056c65607637b25b0e179",
    "heading_collapsed": true,
    "hidden": true
   },
   "source": [
    "### Step-5: Normalise E and O matrix"
   ]
  },
  {
   "cell_type": "markdown",
   "metadata": {
    "_uuid": "c84787fc36c387ce7f2cbc3c07735d45554c0667",
    "hidden": true
   },
   "source": [
    "`E` and `O` are normalized such that E and O have the same sum."
   ]
  },
  {
   "cell_type": "code",
   "execution_count": 13,
   "metadata": {
    "_uuid": "ee4cf77bed65391f990be3e34363e06afb5653a9",
    "hidden": true
   },
   "outputs": [
    {
     "data": {
      "text/plain": [
       "1.0"
      ]
     },
     "execution_count": 13,
     "metadata": {},
     "output_type": "execute_result"
    }
   ],
   "source": [
    "E = E/E.sum(); E.sum()"
   ]
  },
  {
   "cell_type": "code",
   "execution_count": 14,
   "metadata": {
    "_uuid": "c055148782cf1b992f8628309d676d6f019098f2",
    "hidden": true
   },
   "outputs": [
    {
     "data": {
      "text/plain": [
       "1.0"
      ]
     },
     "execution_count": 14,
     "metadata": {},
     "output_type": "execute_result"
    }
   ],
   "source": [
    "O = O/O.sum(); O.sum()"
   ]
  },
  {
   "cell_type": "code",
   "execution_count": 15,
   "metadata": {
    "_uuid": "f46d54f439e612adddb6bd9eeb3bfc03783dfd1f",
    "hidden": true
   },
   "outputs": [
    {
     "data": {
      "text/plain": [
       "array([[0.  , 0.  , 0.  , 0.  , 0.  ],\n",
       "       [0.12, 0.12, 0.06, 0.  , 0.  ],\n",
       "       [0.04, 0.04, 0.02, 0.  , 0.  ],\n",
       "       [0.04, 0.04, 0.02, 0.  , 0.  ],\n",
       "       [0.2 , 0.2 , 0.1 , 0.  , 0.  ]])"
      ]
     },
     "execution_count": 15,
     "metadata": {},
     "output_type": "execute_result"
    }
   ],
   "source": [
    "E"
   ]
  },
  {
   "cell_type": "code",
   "execution_count": 16,
   "metadata": {
    "_uuid": "54acd69a2b7aca47bf3680549c1f05f9eb117f8e",
    "hidden": true
   },
   "outputs": [
    {
     "data": {
      "text/plain": [
       "array([[0. , 0. , 0. , 0. , 0. ],\n",
       "       [0. , 0.3, 0. , 0. , 0. ],\n",
       "       [0. , 0. , 0.1, 0. , 0. ],\n",
       "       [0. , 0.1, 0. , 0. , 0. ],\n",
       "       [0.4, 0. , 0.1, 0. , 0. ]])"
      ]
     },
     "execution_count": 16,
     "metadata": {},
     "output_type": "execute_result"
    }
   ],
   "source": [
    "O"
   ]
  },
  {
   "cell_type": "markdown",
   "metadata": {
    "_uuid": "e0749936fbd6f794f444f729de1746da8e05f94c",
    "heading_collapsed": true,
    "hidden": true
   },
   "source": [
    "### Step-6: Calculate Weighted Kappa"
   ]
  },
  {
   "cell_type": "code",
   "execution_count": 17,
   "metadata": {
    "_uuid": "08385777e343846e2ebc5b6f9ac681db3b853610",
    "hidden": true
   },
   "outputs": [
    {
     "data": {
      "text/plain": [
       "-0.139240506329114"
      ]
     },
     "execution_count": 17,
     "metadata": {},
     "output_type": "execute_result"
    }
   ],
   "source": [
    "num=0\n",
    "den=0\n",
    "for i in range(len(w)):\n",
    "    for j in range(len(w)):\n",
    "        num+=w[i][j]*O[i][j]\n",
    "        den+=w[i][j]*E[i][j]\n",
    " \n",
    "weighted_kappa = (1 - (num/den)); weighted_kappa"
   ]
  },
  {
   "cell_type": "markdown",
   "metadata": {
    "_uuid": "589225717b2373bb8c29bd43d9e4fd7ce2d658be",
    "heading_collapsed": true,
    "hidden": true
   },
   "source": [
    "### Compare Result with Existing Metric"
   ]
  },
  {
   "cell_type": "markdown",
   "metadata": {
    "_uuid": "ff388499ae6e4ac2a52b4a7aa86ffa30e5425097",
    "hidden": true
   },
   "source": [
    "The following code to calculate the Weighted Kappa Metric was used by Abhishek in his kernel https://www.kaggle.com/abhishek/maybe-something-interesting-here. "
   ]
  },
  {
   "cell_type": "code",
   "execution_count": 18,
   "metadata": {
    "_uuid": "3b638a8c4c777eac9d03522287b7e10ac46a5dd2",
    "hidden": true
   },
   "outputs": [],
   "source": [
    "# The following 3 functions have been taken from Ben Hamner's github repository\n",
    "# https://github.com/benhamner/Metrics\n",
    "def Cmatrix(rater_a, rater_b, min_rating=None, max_rating=None):\n",
    "    \"\"\"\n",
    "    Returns the confusion matrix between rater's ratings\n",
    "    \"\"\"\n",
    "    assert(len(rater_a) == len(rater_b))\n",
    "    if min_rating is None:\n",
    "        min_rating = min(rater_a + rater_b)\n",
    "    if max_rating is None:\n",
    "        max_rating = max(rater_a + rater_b)\n",
    "    num_ratings = int(max_rating - min_rating + 1)\n",
    "    conf_mat = [[0 for i in range(num_ratings)]\n",
    "                for j in range(num_ratings)]\n",
    "    for a, b in zip(rater_a, rater_b):\n",
    "        conf_mat[a - min_rating][b - min_rating] += 1\n",
    "    return conf_mat\n",
    "\n",
    "\n",
    "def histogram(ratings, min_rating=None, max_rating=None):\n",
    "    \"\"\"\n",
    "    Returns the counts of each type of rating that a rater made\n",
    "    \"\"\"\n",
    "    if min_rating is None:\n",
    "        min_rating = min(ratings)\n",
    "    if max_rating is None:\n",
    "        max_rating = max(ratings)\n",
    "    num_ratings = int(max_rating - min_rating + 1)\n",
    "    hist_ratings = [0 for x in range(num_ratings)]\n",
    "    for r in ratings:\n",
    "        hist_ratings[r - min_rating] += 1\n",
    "    return hist_ratings\n",
    "\n",
    "\n",
    "def quadratic_weighted_kappa(y, y_pred):\n",
    "    \"\"\"\n",
    "    Calculates the quadratic weighted kappa\n",
    "    axquadratic_weighted_kappa calculates the quadratic weighted kappa\n",
    "    value, which is a measure of inter-rater agreement between two raters\n",
    "    that provide discrete numeric ratings.  Potential values range from -1\n",
    "    (representing complete disagreement) to 1 (representing complete\n",
    "    agreement).  A kappa value of 0 is expected if all agreement is due to\n",
    "    chance.\n",
    "    quadratic_weighted_kappa(rater_a, rater_b), where rater_a and rater_b\n",
    "    each correspond to a list of integer ratings.  These lists must have the\n",
    "    same length.\n",
    "    The ratings should be integers, and it is assumed that they contain\n",
    "    the complete range of possible ratings.\n",
    "    quadratic_weighted_kappa(X, min_rating, max_rating), where min_rating\n",
    "    is the minimum possible rating, and max_rating is the maximum possible\n",
    "    rating\n",
    "    \"\"\"\n",
    "    rater_a = y\n",
    "    rater_b = y_pred\n",
    "    min_rating=None\n",
    "    max_rating=None\n",
    "    rater_a = np.array(rater_a, dtype=int)\n",
    "    rater_b = np.array(rater_b, dtype=int)\n",
    "    assert(len(rater_a) == len(rater_b))\n",
    "    if min_rating is None:\n",
    "        min_rating = min(min(rater_a), min(rater_b))\n",
    "    if max_rating is None:\n",
    "        max_rating = max(max(rater_a), max(rater_b))\n",
    "    conf_mat = Cmatrix(rater_a, rater_b,\n",
    "                                min_rating, max_rating)\n",
    "    num_ratings = len(conf_mat)\n",
    "    num_scored_items = float(len(rater_a))\n",
    "\n",
    "    hist_rater_a = histogram(rater_a, min_rating, max_rating)\n",
    "    hist_rater_b = histogram(rater_b, min_rating, max_rating)\n",
    "\n",
    "    numerator = 0.0\n",
    "    denominator = 0.0\n",
    "\n",
    "    for i in range(num_ratings):\n",
    "        for j in range(num_ratings):\n",
    "            expected_count = (hist_rater_a[i] * hist_rater_b[j]\n",
    "                              / num_scored_items)\n",
    "            d = pow(i - j, 2.0) / pow(num_ratings - 1, 2.0)\n",
    "            numerator += d * conf_mat[i][j] / num_scored_items\n",
    "            denominator += d * expected_count / num_scored_items\n",
    "\n",
    "    return (1.0 - numerator / denominator)"
   ]
  },
  {
   "cell_type": "code",
   "execution_count": 19,
   "metadata": {
    "_uuid": "a0feddc3429606ac1d8cd14007fd93bf1c26d259",
    "hidden": true
   },
   "outputs": [
    {
     "data": {
      "text/plain": [
       "-0.139240506329114"
      ]
     },
     "execution_count": 19,
     "metadata": {},
     "output_type": "execute_result"
    }
   ],
   "source": [
    "quadratic_weighted_kappa(actuals, preds)"
   ]
  },
  {
   "cell_type": "markdown",
   "metadata": {
    "_uuid": "8f2c2c10a5e5b935efb937ffaebda14912949fd2"
   },
   "source": [
    "Our result matches the existic quadratic weighted kappa metric. "
   ]
  },
  {
   "cell_type": "markdown",
   "metadata": {
    "_uuid": "cdfb7326c2645ae03f95e8a0f84e51b94abb3ac0",
    "heading_collapsed": true
   },
   "source": [
    "## Rewrite the Quadratic Kappa Metric function"
   ]
  },
  {
   "cell_type": "code",
   "execution_count": 20,
   "metadata": {
    "_uuid": "d68f3a34fe8d43c359f173215b906c32cea90e56",
    "hidden": true
   },
   "outputs": [],
   "source": [
    "def quadratic_kappa(actuals, preds, N=5):\n",
    "    \"\"\"This function calculates the Quadratic Kappa Metric used for Evaluation in the PetFinder competition\n",
    "    at Kaggle. It returns the Quadratic Weighted Kappa metric score between the actual and the predicted values \n",
    "    of adoption rating.\"\"\"\n",
    "    w = np.zeros((N,N))\n",
    "    O = confusion_matrix(actuals, preds)\n",
    "    for i in range(len(w)): \n",
    "        for j in range(len(w)):\n",
    "            w[i][j] = float(((i-j)**2)/(N-1)**2)\n",
    "    \n",
    "    act_hist=np.zeros([N])\n",
    "    for item in actuals: \n",
    "        act_hist[item]+=1\n",
    "    \n",
    "    pred_hist=np.zeros([N])\n",
    "    for item in preds: \n",
    "        pred_hist[item]+=1\n",
    "                         \n",
    "    E = np.outer(act_hist, pred_hist);\n",
    "    E = E/E.sum();\n",
    "    O = O/O.sum();\n",
    "    \n",
    "    num=0\n",
    "    den=0\n",
    "    for i in range(len(w)):\n",
    "        for j in range(len(w)):\n",
    "            num+=w[i][j]*O[i][j]\n",
    "            den+=w[i][j]*E[i][j]\n",
    "    return (1 - (num/den))"
   ]
  },
  {
   "cell_type": "code",
   "execution_count": 21,
   "metadata": {
    "_uuid": "8040875aa5544803949cbc88bc3b28fb46588c1a",
    "hidden": true
   },
   "outputs": [
    {
     "data": {
      "text/plain": [
       "array([4, 4, 3, 4, 4, 4, 1, 1, 2, 1])"
      ]
     },
     "execution_count": 21,
     "metadata": {},
     "output_type": "execute_result"
    }
   ],
   "source": [
    "actuals"
   ]
  },
  {
   "cell_type": "code",
   "execution_count": 22,
   "metadata": {
    "_uuid": "e87855ac4eddf174e920b8f1a8f23a929a900a06",
    "hidden": true
   },
   "outputs": [
    {
     "data": {
      "text/plain": [
       "array([0, 2, 1, 0, 0, 0, 1, 1, 2, 1])"
      ]
     },
     "execution_count": 22,
     "metadata": {},
     "output_type": "execute_result"
    }
   ],
   "source": [
    "preds"
   ]
  },
  {
   "cell_type": "code",
   "execution_count": 23,
   "metadata": {
    "_uuid": "79577c54b722529deefe5c028f45dfe1e8d43c67",
    "hidden": true
   },
   "outputs": [
    {
     "data": {
      "text/plain": [
       "-0.139240506329114"
      ]
     },
     "execution_count": 23,
     "metadata": {},
     "output_type": "execute_result"
    }
   ],
   "source": [
    "quadratic_kappa(actuals, preds)"
   ]
  },
  {
   "cell_type": "markdown",
   "metadata": {
    "_uuid": "cb726849de9f4811604334ad19170ff8694ee362"
   },
   "source": [
    "**What if both actuals and predictions match 100%?**"
   ]
  },
  {
   "cell_type": "code",
   "execution_count": 24,
   "metadata": {
    "_uuid": "14d53a4fec271e2e257deac9d2af6194bc6d3ac4"
   },
   "outputs": [
    {
     "data": {
      "text/plain": [
       "1.0"
      ]
     },
     "execution_count": 24,
     "metadata": {},
     "output_type": "execute_result"
    }
   ],
   "source": [
    "actuals = np.array([4, 4, 3, 4, 4, 4, 1, 1, 2, 0])\n",
    "preds   = np.array([4, 4, 3, 4, 4, 4, 1, 1, 2, 0])\n",
    "quadratic_kappa(actuals, preds)"
   ]
  },
  {
   "cell_type": "code",
   "execution_count": null,
   "metadata": {},
   "outputs": [],
   "source": []
  }
 ],
 "metadata": {
  "gist": {
   "data": {
    "description": "Desktop/Folders/Data_Scientist/fastai_repo/fastai/courses/ml1/kaggle_competitions/metrics/Untitled.ipynb",
    "public": true
   },
   "id": ""
  },
  "kernelspec": {
   "display_name": "Python 3",
   "language": "python",
   "name": "python3"
  },
  "language_info": {
   "codemirror_mode": {
    "name": "ipython",
    "version": 3
   },
   "file_extension": ".py",
   "mimetype": "text/x-python",
   "name": "python",
   "nbconvert_exporter": "python",
   "pygments_lexer": "ipython3",
   "version": "3.8.3"
  },
  "toc": {
   "base_numbering": 1,
   "nav_menu": {},
   "number_sections": true,
   "sideBar": true,
   "skip_h1_title": false,
   "title_cell": "Table of Contents",
   "title_sidebar": "Contents",
   "toc_cell": false,
   "toc_position": {},
   "toc_section_display": true,
   "toc_window_display": true
  }
 },
 "nbformat": 4,
 "nbformat_minor": 4
}
