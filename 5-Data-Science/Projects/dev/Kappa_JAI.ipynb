{
 "cells": [
  {
   "cell_type": "markdown",
   "metadata": {},
   "source": [
    "# Calcul du coefficient Kappa de Cohen avec Scikt-Learn"
   ]
  },
  {
   "cell_type": "code",
   "execution_count": 23,
   "metadata": {},
   "outputs": [],
   "source": [
    "import numpy as np\n",
    "import pandas as pd\n",
    "from sklearn.metrics import confusion_matrix, cohen_kappa_score"
   ]
  },
  {
   "cell_type": "code",
   "execution_count": 5,
   "metadata": {},
   "outputs": [],
   "source": [
    "# Signature de la fonction: cohen_kappa_score\n",
    "# sklearn.metrics.cohen_kappa_score(y1, y2, *, labels=None, weights=None, sample_weight=None)"
   ]
  },
  {
   "cell_type": "markdown",
   "metadata": {},
   "source": [
    "# Exemple 1"
   ]
  },
  {
   "cell_type": "markdown",
   "metadata": {},
   "source": [
    "## Exemple précédent avec Scikit-Learn"
   ]
  },
  {
   "cell_type": "code",
   "execution_count": 24,
   "metadata": {},
   "outputs": [],
   "source": [
    "actuals = np.array([4, 4, 3, 4, 4, 4, 1, 1, 2, 1])\n",
    "preds   = np.array([0, 2, 1, 0, 0, 0, 1, 1, 2, 1])"
   ]
  },
  {
   "cell_type": "code",
   "execution_count": 25,
   "metadata": {},
   "outputs": [
    {
     "name": "stdout",
     "output_type": "stream",
     "text": [
      "Cohen_Kappa_Score: 0.3023\n",
      "Linear_Cohen_Kappa_Score: 0.0566\n",
      "Quadratic_Cohen_Kappa_Score: -0.1392\n"
     ]
    }
   ],
   "source": [
    "# Calcul du Coefficient Kappa de Cohen \n",
    "print(\"Cohen_Kappa_Score: %.4f\" % cohen_kappa_score(actuals, preds))\n",
    "print(\"Linear_Cohen_Kappa_Score: %.4f\" % cohen_kappa_score(actuals, preds, weights='linear'))\n",
    "print(\"Quadratic_Cohen_Kappa_Score: %.4f\" % cohen_kappa_score(actuals, preds, weights='quadratic'))"
   ]
  },
  {
   "cell_type": "code",
   "execution_count": 15,
   "metadata": {},
   "outputs": [
    {
     "name": "stdout",
     "output_type": "stream",
     "text": [
      "Quadratic_Cohen_Kappa_Score: 1.0000\n"
     ]
    }
   ],
   "source": [
    "# Même exemple avec des Jugement en accord à 100%\n",
    "\n",
    "actuals = np.array([4, 4, 3, 4, 4, 4, 1, 1, 2, 0])\n",
    "preds   = np.array([4, 4, 3, 4, 4, 4, 1, 1, 2, 0])\n",
    "print(\"Quadratic_Cohen_Kappa_Score: %.4f\" % cohen_kappa_score(actuals, preds, weights='quadratic'))"
   ]
  },
  {
   "cell_type": "markdown",
   "metadata": {},
   "source": [
    "# Exemple 2"
   ]
  },
  {
   "cell_type": "code",
   "execution_count": 19,
   "metadata": {},
   "outputs": [],
   "source": [
    "rater1 = ['yes', 'no', 'yes', 'yes', 'yes', 'yes', 'no', 'yes', 'yes']\n",
    "rater2 = ['yes', 'no', 'no', 'yes', 'yes', 'yes', 'yes', 'yes', 'yes']"
   ]
  },
  {
   "cell_type": "markdown",
   "metadata": {},
   "source": [
    "### Calcul manuel"
   ]
  },
  {
   "cell_type": "code",
   "execution_count": 3,
   "metadata": {},
   "outputs": [],
   "source": [
    "#Confusion matrix"
   ]
  },
  {
   "attachments": {
    "66dda43e-99cb-47a5-8e14-84265c9e2a73.png": {
     "image/png": "[encoded data removed]"
    }
   },
   "cell_type": "markdown",
   "metadata": {},
   "source": [
    "![image.png](attachment:66dda43e-99cb-47a5-8e14-84265c9e2a73.png)"
   ]
  },
  {
   "cell_type": "markdown",
   "metadata": {},
   "source": [
    "- Observed agreement = (6 + 1) / 10 = 0.7\n",
    "- Chance agreement   = probability of randomly saying yes (P_yes) + probability of randomly saying no (P_no)\n",
    "- P_yes              = (6 + 1) / 10 * (6 + 1) / 10 = 0.49\n",
    "- P_no               = (1 + 1) / 10 * (1 + 1) / 10 = 0.04\n",
    "- Chance agreement   = 0.49 + 0.04 = 0.53"
   ]
  },
  {
   "cell_type": "markdown",
   "metadata": {},
   "source": [
    "**kappa = 1 - (1 - 0.7) / (1 - 0.53) = 0.36**"
   ]
  },
  {
   "cell_type": "markdown",
   "metadata": {},
   "source": [
    "### Calcul avec Scikit-Learn"
   ]
  },
  {
   "cell_type": "code",
   "execution_count": 20,
   "metadata": {},
   "outputs": [
    {
     "data": {
      "text/plain": [
       "array([[1, 1],\n",
       "       [1, 6]])"
      ]
     },
     "execution_count": 20,
     "metadata": {},
     "output_type": "execute_result"
    }
   ],
   "source": [
    "# Affichage du Tableau de Contingence\n",
    "from sklearn.metrics.cluster import contingency_matrix\n",
    "contingency_matrix(rater1,rater2)"
   ]
  },
  {
   "cell_type": "code",
   "execution_count": 21,
   "metadata": {},
   "outputs": [
    {
     "name": "stdout",
     "output_type": "stream",
     "text": [
      "Cohen_Kappa_Score: 0.36\n"
     ]
    }
   ],
   "source": [
    "# Calcul du Coefficient Kappa de Cohen\n",
    "print(\"Cohen_Kappa_Score: %.2f\" % cohen_kappa_score(rater1, rater2))"
   ]
  },
  {
   "cell_type": "markdown",
   "metadata": {},
   "source": [
    "# Exemple 3: Deux Observations entre deux temps t1 et t2"
   ]
  },
  {
   "cell_type": "markdown",
   "metadata": {},
   "source": [
    "**Soit les deux variables appariées suivantes:**"
   ]
  },
  {
   "attachments": {
    "4211ed9f-6461-4567-942f-c0558fb7a9e7.png": {
     "image/png": "[encoded data removed]"
    }
   },
   "cell_type": "markdown",
   "metadata": {},
   "source": [
    "![image.png](attachment:4211ed9f-6461-4567-942f-c0558fb7a9e7.png)"
   ]
  },
  {
   "cell_type": "markdown",
   "metadata": {},
   "source": [
    "**Le tableau des effectifs croisés entre les deux variables appariées:**"
   ]
  },
  {
   "attachments": {
    "ac13e858-03b7-40c0-aef1-fed1b4ebf6f2.png": {
     "image/png": "[encoded data removed]"
    }
   },
   "cell_type": "markdown",
   "metadata": {},
   "source": [
    "![image.png](attachment:ac13e858-03b7-40c0-aef1-fed1b4ebf6f2.png)"
   ]
  },
  {
   "cell_type": "markdown",
   "metadata": {},
   "source": [
    "*Nous avons donc 20 observations, si nous décomposons la formule de calcul du coefficient Kappa de Cohen nous trouvons:*"
   ]
  },
  {
   "attachments": {
    "ef6ae295-4cbc-4bdd-8225-d08b95d0de9f.png": {
     "image/png": "[encoded data removed]"
    }
   },
   "cell_type": "markdown",
   "metadata": {},
   "source": [
    "![image.png](attachment:ef6ae295-4cbc-4bdd-8225-d08b95d0de9f.png)"
   ]
  },
  {
   "cell_type": "markdown",
   "metadata": {},
   "source": [
    "**En nous reportant à la table de Landis et Koch nous en concluant quand à un accord très faible entre les observateurs des deux temps.**"
   ]
  },
  {
   "cell_type": "code",
   "execution_count": 22,
   "metadata": {},
   "outputs": [
    {
     "name": "stdout",
     "output_type": "stream",
     "text": [
      "Cohen_Kappa_Score: 0.36\n"
     ]
    }
   ],
   "source": [
    "X_t1 = np.array([1,2,....])\n",
    "X_t2   = np.array([2,1......])"
   ]
  },
  {
   "cell_type": "code",
   "execution_count": null,
   "metadata": {},
   "outputs": [],
   "source": [
    "# Calcul du Coefficient Kappa de Cohen\n",
    "print(\"Cohen_Kappa_Score: %.2f\" % cohen_kappa_score(X_t1, X_t2))"
   ]
  }
 ],
 "metadata": {
  "kernelspec": {
   "display_name": "Python 3",
   "language": "python",
   "name": "python3"
  },
  "language_info": {
   "codemirror_mode": {
    "name": "ipython",
    "version": 3
   },
   "file_extension": ".py",
   "mimetype": "text/x-python",
   "name": "python",
   "nbconvert_exporter": "python",
   "pygments_lexer": "ipython3",
   "version": "3.8.3"
  }
 },
 "nbformat": 4,
 "nbformat_minor": 4
}
